{
 "cells": [
  {
   "cell_type": "markdown",
   "metadata": {},
   "source": [
    "### Java Snowpark UDTF Examples\n",
    "\n",
    "In this example, we will build a java udf that generates fake data. We'll also show logging and tracing.\n",
    "\n",
    "Much of the work for this will be done outside of this notebook. It is here mostly for reference."
   ]
  },
  {
   "cell_type": "markdown",
   "metadata": {},
   "source": [
    "### Build your environment.\n",
    "\n",
    "In IntelliJ, I'm going to create a new maven project. I'm going to create a single Java file, in this case, I'll call it FakeData and the package doesn't matter, just remember it for next time.\n",
    "\n",
    "This class won't do a whole lot, but will use the Faker library.\n",
    "\n",
    "The pom.xml is below you may need to update based on your project name and setup\n"
   ]
  },
  {
   "cell_type": "markdown",
   "metadata": {},
   "source": [
    "```\n",
    "<?xml version=\"1.0\" encoding=\"UTF-8\"?>\n",
    "<?xml version=\"1.0\" encoding=\"UTF-8\"?>\n",
    "<project xmlns=\"http://maven.apache.org/POM/4.0.0\"\n",
    "         xmlns:xsi=\"http://www.w3.org/2001/XMLSchema-instance\"\n",
    "         xsi:schemaLocation=\"http://maven.apache.org/POM/4.0.0 http://maven.apache.org/xsd/maven-4.0.0.xsd\">\n",
    "    <modelVersion>4.0.0</modelVersion>\n",
    "\n",
    "    <groupId>com.snowflake.bharris</groupId>\n",
    "    <artifactId>FebSnowcamp</artifactId>\n",
    "    <version>1.0-SNAPSHOT</version>\n",
    "\n",
    "    <properties>\n",
    "        <maven.compiler.source>11</maven.compiler.source>\n",
    "        <maven.compiler.target>11</maven.compiler.target>\n",
    "        <project.build.sourceEncoding>UTF-8</project.build.sourceEncoding>\n",
    "    </properties>\n",
    "\n",
    "</project>\n",
    "```"
   ]
  },
  {
   "cell_type": "markdown",
   "metadata": {},
   "source": [
    "Now, we're going to create a very simple \"Hello World\" class to start, just to make sure we've got everything setup.\n",
    "\n",
    "This is optional, you can always skip ahead if you want."
   ]
  },
  {
   "cell_type": "markdown",
   "metadata": {},
   "source": [
    "Go ahead and create a class named FakeDataUDF.java in whatever package you want.\n",
    "\n",
    "It should look something like this:"
   ]
  },
  {
   "cell_type": "markdown",
   "metadata": {},
   "source": [
    "```\n",
    "package com.snowflake.bharris.snowcamp;\n",
    "\n",
    "public class FakeDataUDF {\n",
    "    public static void main(String[] args)\n",
    "    {\n",
    "        // Snowflake won't call this\n",
    "        // It's only here for testing locally\n",
    "        FakeDataUDF udf = new FakeDataUDF();\n",
    "        System.out.println(udf.sayHello(\"Brad\"));\n",
    "    }\n",
    "\n",
    "    private String sayHello(String name) {\n",
    "        return \"Hello: \" + name;\n",
    "    }\n",
    "\n",
    "}\n",
    "\n",
    "```"
   ]
  },
  {
   "cell_type": "markdown",
   "metadata": {},
   "source": [
    "Now, we can run it, and we should get our simple output.\n",
    "\n",
    "Something this simple, we could just code directly into Snowflake as a UDF. It would look something like this:\n",
    "\n",
    "```\n",
    "create or replace database JAVA_FUNCTIONS;\n",
    "create or replace schema CODE;\n",
    "\n",
    "CREATE WAREHOUSE IF NOT EXISTS JAVA_UDF_WH \n",
    "    WAREHOUSE_TYPE = STANDARD \n",
    "    WAREHOUSE_SIZE = XSMALL \n",
    "    INITIALLY_SUSPENDED = TRUE \n",
    "    AUTO_SUSPEND = 60;\n",
    "\n",
    "CREATE OR REPLACE STAGE JAVA_FUNCTIONS.CODE.FILES\n",
    "    DIRECTORY = (ENABLE = TRUE);\n",
    "    \n",
    "create or replace function say_hello(name varchar)\n",
    "returns varchar\n",
    "language java\n",
    "called on null input\n",
    "handler='TestFunc.sayHello'\n",
    "target_path='@FILES/sayHello.jar'\n",
    "as\n",
    "'class TestFunc {\n",
    "  public static String sayHello(String name) {\n",
    "    return \"Hello: \" + name;\n",
    "  }\n",
    "}';\n",
    "\n",
    "select say_hello('Brad');\n",
    "\n",
    "```"
   ]
  },
  {
   "cell_type": "markdown",
   "metadata": {},
   "source": [
    "Step 1\n",
    "After cloning the project, run mvn package. If all goes well, this will create EnrichData-1.0-SNAPSHOT-jar-with-dependencies.jar in the target folder.\n",
    "\n",
    "Step 2\n",
    "Use the Snowflake CLI to upload the jar once it is compiled locally. Follow the instructions here to install the Snowflake CLI.\n",
    "\n",
    "Step 3\n",
    "3.a Start a SnowSQL session at the command line by running snowsql -a <YOUR_SNOWFLAKE_ACCOUNT> -u <YOUR_USER_NAME>\n",
    "\n",
    "3.b Set the database, schema, and warehouse by running the following command.\n",
    "\n",
    "``` use database <YOUR_DATABASE>;\n",
    "use schema <YOUR_SCHEMA>;\n",
    "use warehouse <YOUR_WAREHOUSE>;\n",
    "3.c Upload the jar to Snowflake by running the following command.\n",
    "\n",
    "put file:///<full-path>/target/EnrichData-1.0-SNAPSHOT-jar-with-dependencies.jar\n",
    "@~/<YOUR_SNOWFLAKE_STAGE_NAME>/\n",
    "auto_compress = false\n",
    "overwrite = true;\n",
    "3.d Create the UDFs in Snowflake by running the following commands.\n",
    "\n",
    "create or replace function get_country_name(ip varchar)\n",
    "returns varchar\n",
    "language java\n",
    "imports = ('@~/<YOUR_SNOWFLAKE_STAGE_NAME>/EnrichData-1.0-SNAPSHOT-jar-with-dependencies.jar')\n",
    "handler = 'com.dash.enrichdata.EnrichData.getCountryName';\n",
    "create or replace function get_city_name(ip varchar)\n",
    "returns varchar\n",
    "language java\n",
    "imports = ('@~/<YOUR_SNOWFLAKE_STAGE_NAME>/EnrichData-1.0-SNAPSHOT-jar-with-dependencies.jar')\n",
    "handler = 'com.dash.enrichdata.EnrichData.getCityName';\n",
    "create or replace function get_decoded_url(ip varchar)\n",
    "returns varchar\n",
    "language java\n",
    "imports = ('@~/<YOUR_SNOWFLAKE_STAGE_NAME>/EnrichData-1.0-SNAPSHOT-jar-with-dependencies.jar')\n",
    "handler = 'com.dash.enrichdata.EnrichData.decodeURL';\n",
    "create or replace function extract_product_name(ip varchar)\n",
    "returns varchar\n",
    "language java\n",
    "imports = ('@~/<YOUR_SNOWFLAKE_STAGE_NAME>/EnrichData-1.0-SNAPSHOT-jar-with-dependencies.jar')\n",
    "handler = 'com.dash.enrichdata.EnrichData.extractProductName';\n",
    "Step 4\n",
    "Use the UDFs in your SQL queries in Snowflake. For example:\n",
    "\n",
    "SELECT *, \n",
    "get_country_name(CLIENTIP) as COUNTRY_NAME, \n",
    "get_city_name(CLIENTIP) as CITY_NAME, \n",
    "get_decoded_url(REQUEST) as DECODED_URL, \n",
    "extract_product_name(REQUEST) as PRODUCT_NAME \n",
    "FROM WEB_LOGS; ```"
   ]
  }
 ],
 "metadata": {
  "language_info": {
   "name": "python"
  }
 },
 "nbformat": 4,
 "nbformat_minor": 2
}
