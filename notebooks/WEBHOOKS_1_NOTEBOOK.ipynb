{
 "metadata": {
  "kernelspec": {
   "display_name": "Streamlit Notebook",
   "name": "streamlit"
  },
  "lastEditStatus": {
   "notebookId": "bkrkwpcaxwy32dh52roq",
   "authorId": "1011012698186",
   "authorName": "BHARRIS",
   "authorEmail": "bradley.harris@snowflake.com",
   "sessionId": "17f50509-c67d-4ea9-87e8-7eb160639537",
   "lastEditTime": 1738863420271
  }
 },
 "nbformat_minor": 5,
 "nbformat": 4,
 "cells": [
  {
   "cell_type": "markdown",
   "id": "3775908f-ca36-4846-8f38-5adca39217f2",
   "metadata": {
    "name": "cell1",
    "collapsed": false
   },
   "source": "You can integrate Snowflake notifications with the following external systems by using the webhooks that these systems provide:\n\n* Slack\n* Microsoft Teams\n* PagerDuty\n\nSnowflake does not send webhook notifications to external systems other than the ones listed above.\n\nTo send a notification to one of these systems:\n\n1) Create the secret for the webhook URL for the external system.\n2) Create the webhook notification integration for the external system.\n3) Send the notification to the external system, using the webhook notification integration."
  },
  {
   "cell_type": "markdown",
   "id": "9481fa01-7c67-40f3-aafe-c73527d65fde",
   "metadata": {
    "name": "cell4",
    "collapsed": false
   },
   "source": "For this example, I am going to be connecting to Slack. There is some prework that needs to be done\n\nInstructions for Slack can be found [here](https://api.slack.com/messaging/webhooks#create_a_webhook)\n\nInstructions for Teams can be found [here](https://learn.microsoft.com/en-us/microsoftteams/platform/webhooks-and-connectors/how-to/add-incoming-webhook?tabs=newteams%2Cdotnet)\n\nInstructions for PagerDuty can be found [here](https://support.pagerduty.com/main/docs/services-and-integrations)\n\nI don't exactly know what will happen if multiple people use the same setup in Slack, but if you want to try, I will share my secret string.\n\n"
  },
  {
   "cell_type": "code",
   "id": "b5aaa2d0-71ad-4a97-8623-f3d6b72b6caa",
   "metadata": {
    "language": "sql",
    "name": "cell5"
   },
   "outputs": [],
   "source": "-- First, we'll create a secret object for this secret\n\nUSE DATABASE SNOW_WEBHOOKS;\nUSE SCHEMA DATA;\n\nCREATE OR REPLACE SECRET my_slack_webhook_secret\n  TYPE = GENERIC_STRING\n  SECRET_STRING = '<REPLACE_THIS>';",
   "execution_count": null
  },
  {
   "cell_type": "markdown",
   "id": "cfbbb111-b123-4c80-afa5-9c5ac97d9b44",
   "metadata": {
    "name": "cell6",
    "collapsed": false
   },
   "source": "To create a notification integration of the webhook type, use the CREATE NOTIFICATION INTEGRATION command.\n\nWhen executing this command, set the following properties to set up the HTTP request that should be sent for the notification.\n\n* Set TYPE to WEBHOOK.\n* If you created a secret object for a secret to be included in the URL, HTTP request body, or header, set WEBHOOK_SECRET to the name of that secret object.\n* Set WEBHOOK_URL to the URL for the webhook.\n* If the webhook URL includes a secret and you created a secret object for this secret, replace the secret in the URL with SNOWFLAKE_WEBHOOK_SECRET.\n* If the body of the message for the webhook needs to be in a specific format for this external system (for example, if all messages sent to this system need to use the same format), set WEBHOOK_BODY_TEMPLATE to a template for the message. In this template:\n    * Use the SNOWFLAKE_WEBHOOK_SECRET placeholder where the secret should appear in the body of the message.\n    * Use the SNOWFLAKE_WEBHOOK_MESSAGE placeholder where the notification message should appear.\n* When you call SYSTEM$SEND_SNOWFLAKE_NOTIFICATION and pass in a message, the stored procedure uses the template to construct the body of the webhook request. The stored procedure replaces the SNOWFLAKE_WEBHOOK_MESSAGE placeholder with the message that you pass in.\n* If the HTTP request to the webhook must include specific HTTP headers, set WEBHOOK_HEADERS to the list of the header names and values.\n* Use the SNOWFLAKE_WEBHOOK_SECRET placeholder where the secret should appear in the value of a header."
  },
  {
   "cell_type": "code",
   "id": "6da1777d-d0cb-4183-9e02-094cfa0a0f1a",
   "metadata": {
    "language": "sql",
    "name": "cell7"
   },
   "outputs": [],
   "source": "-- We have our secret created already, it's named my_slack_webhook_secret\n\nCREATE OR REPLACE NOTIFICATION INTEGRATION my_slack_webhook_int\n  TYPE=WEBHOOK\n  ENABLED=TRUE\n  WEBHOOK_URL='https://hooks.slack.com/services/SNOWFLAKE_WEBHOOK_SECRET'\n  WEBHOOK_SECRET=SNOW_WEBHOOKS.DATA.my_slack_webhook_secret\n  WEBHOOK_BODY_TEMPLATE='{\"text\": \"SNOWFLAKE_WEBHOOK_MESSAGE\"}'\n  WEBHOOK_HEADERS=('Content-Type'='application/json');",
   "execution_count": null
  },
  {
   "cell_type": "markdown",
   "id": "646472d0-82f8-4a77-865d-d1ab3366a2d6",
   "metadata": {
    "name": "cell9",
    "collapsed": false
   },
   "source": "Placeholders like SNOWFLAKE_WEBHOOK_SECRET are used in notification integrations. When you create a notification integration, you can use placeholders to indicate where you want the content inserted into the request. For example, you can use the SNOWFLAKE_WEBHOOK_SECRET placeholder to insert the secret into the HTTP headers or body of the request."
  },
  {
   "cell_type": "markdown",
   "id": "74df645c-a4c6-4c3c-9da8-a49c1f43c981",
   "metadata": {
    "name": "cell8",
    "collapsed": false
   },
   "source": "Now we can send a notification to a webhook\n\nTo send a notification to a webhook:\n\n1) Pass the SANITIZE_WEBHOOK_CONTENT function to remove any placeholders (like SNOWFLAKE_WEBHOOK_SECRET) from the message.\n2) Call the SYSTEM$SEND_SNOWFLAKE_NOTIFICATION stored procedure, passing in the sanitized message and specifying the name of the webhook notification integration to use."
  },
  {
   "cell_type": "code",
   "id": "8d50cbf4-0c8d-4950-86cb-114990437ac9",
   "metadata": {
    "language": "sql",
    "name": "cell2"
   },
   "source": "-- For example, the following statement sends a JSON message to a Slack webhook, using the notification integration that you created earlier:\n\nCALL SYSTEM$SEND_SNOWFLAKE_NOTIFICATION(\n  SNOWFLAKE.NOTIFICATION.TEXT_PLAIN(\n    SNOWFLAKE.NOTIFICATION.SANITIZE_WEBHOOK_CONTENT('Hi! This is my message')\n  ),\n  SNOWFLAKE.NOTIFICATION.INTEGRATION('my_slack_webhook_int')\n);",
   "execution_count": null,
   "outputs": []
  },
  {
   "cell_type": "markdown",
   "id": "3c499b61-97d8-4d13-9f91-bcf29f6b76ce",
   "metadata": {
    "name": "cell10",
    "collapsed": false
   },
   "source": "In this example, the statement passes in a message in plain text (my message). When constructing the body of the webhook request from the template specified by the WEBHOOK_BODY_TEMPLATE property of the notification integration, SYSTEM$SEND_SNOWFLAKE_NOTIFICATION replaces the SNOWFLAKE_WEBHOOK_MESSAGE placeholder with the message that you pass in."
  },
  {
   "cell_type": "markdown",
   "id": "cb560010-cea8-41e1-bae8-4317ddade08a",
   "metadata": {
    "name": "cell11",
    "collapsed": false
   },
   "source": "Lets make a quick alert that will utilize this webhook.\n\nFor this example, our alert is going to be very simple and we're going to do some manual work to get it to run.\n\nFirst, lets create a table that hold some sample data."
  },
  {
   "cell_type": "code",
   "id": "79a1de8d-18f2-4a73-bb32-4a8047eb2946",
   "metadata": {
    "language": "sql",
    "name": "cell12"
   },
   "outputs": [],
   "source": "-- create our table\ncreate or replace table TEST_ALERT_DATA(id INT, value varchar(50), isok boolean);\n\n-- insert a row\ninsert into TEST_ALERT_DATA(id, value, isok) VALUES (1, 'Hi! Things are fine', true);\n\n-- and lets verify\nselect * from TEST_ALERT_DATA;",
   "execution_count": null
  },
  {
   "cell_type": "markdown",
   "id": "f9e6ba24-b3c3-43e6-bdcd-b09268752a84",
   "metadata": {
    "name": "cell14",
    "collapsed": false
   },
   "source": "Lets create a serverless alert that will let us know if things aren't ok.\n\n1) Verify that you are using a role that has the privileges to create an alert.\n2) Verify that you are using database and schema in which you plan to create the alert.\n3) Execute the CREATE ALERT command to create the alert:"
  },
  {
   "cell_type": "code",
   "id": "abd98e8b-c0fb-40a5-890a-c3838b27a583",
   "metadata": {
    "language": "sql",
    "name": "cell13",
    "collapsed": false,
    "codeCollapsed": false
   },
   "outputs": [],
   "source": "CREATE OR REPLACE ALERT my_alert\n  SCHEDULE = '1 minute'\n  IF( EXISTS(\n    SELECT value from TEST_ALERT_DATA where isok = FALSE))\n  THEN\n    BEGIN\n      LET BAD_THINGS string := (select listagg(value, ', ') as bad_row_messages\n        from TEST_ALERT_DATA where isok = FALSE);\n      \n       CALL SYSTEM$SEND_SNOWFLAKE_NOTIFICATION(\n          SNOWFLAKE.NOTIFICATION.TEXT_PLAIN(\n            SNOWFLAKE.NOTIFICATION.SANITIZE_WEBHOOK_CONTENT('Table contains the following bad things: ' || :BAD_THINGS || ',')\n          ),\n          SNOWFLAKE.NOTIFICATION.INTEGRATION('my_slack_webhook_int')\n        );\n    END;\n;\n\n-- Alerts are suspended by default, so we'll resume\nALTER ALERT my_alert RESUME;\n\n-- and lets check the status of the alert\nDESC ALERT my_alert;",
   "execution_count": null
  },
  {
   "cell_type": "markdown",
   "id": "494dc360-77b1-43e2-b809-0c167e6762da",
   "metadata": {
    "name": "cell16",
    "collapsed": false
   },
   "source": "We can view the run history easily\n\nAnd if we don't do anything or make any changes, we can see details and that it run every minute."
  },
  {
   "cell_type": "code",
   "id": "2120c7cb-f087-4753-a7bd-73f66bf123f3",
   "metadata": {
    "language": "sql",
    "name": "cell15"
   },
   "outputs": [],
   "source": "SELECT *\nFROM\n  TABLE(INFORMATION_SCHEMA.ALERT_HISTORY(\n    SCHEDULED_TIME_RANGE_START\n      =>dateadd('hour',-1,current_timestamp())))\nORDER BY SCHEDULED_TIME DESC;",
   "execution_count": null
  },
  {
   "cell_type": "code",
   "id": "c695373e-ac74-4b62-a1f1-08206cbd5c81",
   "metadata": {
    "language": "sql",
    "name": "cell3"
   },
   "source": "-- if we don't want to wait the minute, we can force the alert to execute\nEXECUTE ALERT my_alert;",
   "execution_count": null,
   "outputs": []
  },
  {
   "cell_type": "markdown",
   "id": "61e0c314-2177-40e3-b2ab-00957dff5962",
   "metadata": {
    "name": "cell17",
    "collapsed": false
   },
   "source": "So, lets go aheand and check slack and we shouldn't see any messages.\n\nLet's change that by inserting a bad row in our table."
  },
  {
   "cell_type": "code",
   "id": "415e5842-8350-463f-bcae-725a118722e3",
   "metadata": {
    "language": "sql",
    "name": "cell18"
   },
   "outputs": [],
   "source": "insert into TEST_ALERT_DATA(id, value, isok) VALUES (2, 'Oh no! Things are not fine', false);\ninsert into TEST_ALERT_DATA(id, value, isok) VALUES (3, 'Unfortunately, Things are getting worse', false);",
   "execution_count": null
  },
  {
   "cell_type": "markdown",
   "id": "97e21a91-5d9a-49ef-a300-725fc8fc6252",
   "metadata": {
    "name": "cell19",
    "collapsed": false
   },
   "source": "and again, we can wait the minute or force things to run."
  },
  {
   "cell_type": "code",
   "id": "4d13f430-0c67-4c03-8e46-71d247b383b0",
   "metadata": {
    "language": "sql",
    "name": "cell20"
   },
   "outputs": [],
   "source": "-- if we don't want to wait the minute, we can force the alert to execute\nEXECUTE ALERT my_alert;",
   "execution_count": null
  },
  {
   "cell_type": "markdown",
   "id": "86ceac1e-03ab-4dd0-8140-b704f3a02051",
   "metadata": {
    "name": "cell21",
    "collapsed": false
   },
   "source": "Now, the way we have this setup, we are going to get a not ok message until the bad record is deleted. So every minute, we can expect a message that things aren't ok."
  },
  {
   "cell_type": "code",
   "id": "6728760f-6886-465c-a2b7-a883ce5318ed",
   "metadata": {
    "language": "sql",
    "name": "cell22"
   },
   "outputs": [],
   "source": "-- Lets go ahead and suspend the alert so we don't get too many messages in slack.\nALTER ALERT my_alert SUSPEND;",
   "execution_count": null
  }
 ]
}