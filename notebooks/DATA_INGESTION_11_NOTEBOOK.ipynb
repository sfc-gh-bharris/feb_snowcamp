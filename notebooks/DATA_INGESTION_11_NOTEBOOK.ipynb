{
 "metadata": {
  "kernelspec": {
   "display_name": "Streamlit Notebook",
   "name": "streamlit"
  },
  "lastEditStatus": {
   "notebookId": "cdvrfpjx645dvfkk23nv",
   "authorId": "1011012698186",
   "authorName": "BHARRIS",
   "authorEmail": "bradley.harris@snowflake.com",
   "sessionId": "cf4b1981-0a39-4062-8eff-fa813a2f8fbd",
   "lastEditTime": 1738358042841
  }
 },
 "nbformat_minor": 5,
 "nbformat": 4,
 "cells": [
  {
   "cell_type": "markdown",
   "id": "3775908f-ca36-4846-8f38-5adca39217f2",
   "metadata": {
    "name": "cell1",
    "collapsed": false
   },
   "source": "## From Java SDK - Using the Snowflake Ingest Service\nMany developers want to be able to directly stream data into Snowflake (without Kafka). In order to do so, Snowflake has a Java SDK.\n\n\n"
  },
  {
   "cell_type": "code",
   "id": "8d50cbf4-0c8d-4950-86cb-114990437ac9",
   "metadata": {
    "language": "sql",
    "name": "cell2"
   },
   "source": "-- First, create a table for data to be inserted into:\n\nUSE ROLE INGEST;\nUSE DATABASE INGEST;\nUSE SCHEMA INGEST;\n\nCREATE OR REPLACE TABLE LIFT_TICKETS_JAVA_STREAMING (TXID varchar(255), RFID varchar(255), RESORT varchar(255), PURCHASE_TIME datetime, EXPIRATION_TIME date, DAYS number, NAME varchar(255), ADDRESS variant, PHONE varchar(255), EMAIL varchar(255), EMERGENCY_CONTACT variant);",
   "execution_count": null,
   "outputs": []
  },
  {
   "cell_type": "markdown",
   "id": "ab1a80e0-7491-4352-a1c6-34ce33ab51f6",
   "metadata": {
    "name": "cell4",
    "collapsed": false
   },
   "source": "We will take a look at the /java/pom.xml which has all our dependencies\n\nand src/main/java/com/snowflake/streaming/app/App.java will have our application code.\n\nTo build and test this code run the following in your shell:\n\n```\nmvn install\nmvn dependency:copy-dependencies\nmvn package\n\n\npython ./data_generator.py 1 | java -cp \"../java/target/java-streaming-1.0-SNAPSHOT.jar:../java/target/dependency/*\" -Dorg.slf4j.simpleLogger.defaultLogLevel=error com.snowflake.streaming.app.App\n```\n\nYou may need to change your path above, based on your directory structure. You should run the line above in your python directory.\n"
  },
  {
   "cell_type": "code",
   "id": "c695373e-ac74-4b62-a1f1-08206cbd5c81",
   "metadata": {
    "language": "sql",
    "name": "cell3"
   },
   "source": "-- Query the table to verify the data was inserted. Data will appear in the table in seconds\n\nSELECT count(*) FROM LIFT_TICKETS_JAVA_STREAMING;",
   "execution_count": null,
   "outputs": []
  },
  {
   "cell_type": "markdown",
   "id": "2f912478-6987-4ce8-9ef3-f82417174b8c",
   "metadata": {
    "name": "cell5",
    "collapsed": false
   },
   "source": "To send in all your test data, you can run the following in your shell in the java directory\n\n```\ncat ../python/data.json.gz | zcat | java -cp \"target/java-streaming-1.0-SNAPSHOT.jar:target/dependency/*\" -Dorg.slf4j.simpleLogger.defaultLogLevel=error com.snowflake.streaming.app.App\n```\n"
  },
  {
   "cell_type": "code",
   "id": "b8ee1869-0c5d-4e85-ab74-ac065a1e38a7",
   "metadata": {
    "language": "sql",
    "name": "cell6"
   },
   "outputs": [],
   "source": "SELECT count(*) FROM LIFT_TICKETS_JAVA_STREAMING;",
   "execution_count": null
  },
  {
   "cell_type": "markdown",
   "id": "5fe3904d-f6ac-4b3f-ad12-4261d8df409f",
   "metadata": {
    "name": "cell7",
    "collapsed": false
   },
   "source": "### Tips\n* Ingest with streaming is billed by the second of compute needed to merge files as well as the clients connected.\n* Number of nodes/threads running the Java SDK will affect performance and credit consumption\n* Best ingest pattern when not using Kafka and are processing streaming data"
  }
 ]
}