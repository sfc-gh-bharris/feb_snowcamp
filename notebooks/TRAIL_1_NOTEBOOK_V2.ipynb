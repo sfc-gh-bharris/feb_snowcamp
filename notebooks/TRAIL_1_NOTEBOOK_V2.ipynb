{
 "metadata": {
  "kernelspec": {
   "display_name": "Streamlit Notebook",
   "name": "streamlit"
  },
  "lastEditStatus": {
   "notebookId": "avdhedehzebvgtypugq4",
   "authorId": "394090024763",
   "authorName": "BHARRIS_DEMO",
   "authorEmail": "bradley.harris@snowflake.com",
   "sessionId": "af48b77c-89b4-4a23-a207-448df3c2e9db",
   "lastEditTime": 1738947288378
  }
 },
 "nbformat_minor": 5,
 "nbformat": 4,
 "cells": [
  {
   "cell_type": "markdown",
   "id": "3775908f-ca36-4846-8f38-5adca39217f2",
   "metadata": {
    "collapsed": false,
    "name": "cell1"
   },
   "source": [
    "This will will introduce you to Logs, Traces, and Metrics in Snowflake which can be used to optimize performance and find errors in UDFs and stored procedures.\n",
    "\n",
    "You will use REST APIs from OpenWeather to showcase the fetch weather data as part of a pipeline.\n",
    "\n",
    "I would have normally done this in our overall setup script, but I wanted to show how we're setting our tracing configuration.\n",
    "\n",
    "Make sure you add the opentelemetry-api and opentelemtry-distro packages via the 'packages' menu in the top right"
   ]
  },
  {
   "cell_type": "code",
   "execution_count": null,
   "id": "8d50cbf4-0c8d-4950-86cb-114990437ac9",
   "metadata": {
    "language": "sql",
    "name": "cell2"
   },
   "outputs": [],
   "source": [
    "CREATE OR REPLACE WAREHOUSE TRACING_QUICKSTART_WH WAREHOUSE_SIZE=XSMALL, INITIALLY_SUSPENDED=TRUE;\n",
    "CREATE OR REPLACE DATABASE TRACING_QUICKSTART;\n",
    "CREATE OR REPLACE SCHEMA DATA;\n",
    "\n",
    "ALTER DATABASE TRACING_QUICKSTART SET TRACE_LEVEL = ALWAYS;\n",
    "ALTER SCHEMA DATA SET TRACE_LEVEL = ALWAYS;"
   ]
  },
  {
   "cell_type": "code",
   "id": "f4b931fb-526d-444d-a5de-6c0276d7c64e",
   "metadata": {
    "language": "sql",
    "name": "cell29"
   },
   "outputs": [],
   "source": "show event tables;",
   "execution_count": null
  },
  {
   "cell_type": "markdown",
   "id": "434e9ea8-aba4-45f8-bb13-7291c8be7b28",
   "metadata": {
    "collapsed": false,
    "name": "cell5"
   },
   "source": [
    "### Parameters for event tables\n",
    "You can use the following parameters to specify how the event table should be used by handler code.\n",
    "\n",
    "**EVENT_TABLE**\n",
    "\n",
    "Specifies the name of the event table for logging messages from stored procedures and UDFs in this account. For reference information, see EVENT_TABLE.\n",
    "\n",
    "**LOG_LEVEL**\n",
    "\n",
    "Specifies the severity level of messages that should be ingested and made available in the active event table. Messages at the specified level (and at more severe levels) are ingested. For more information, see LOG_LEVEL and Setting levels for logging, metrics, and tracing.\n",
    "\n",
    "**METRIC_LEVEL**\n",
    "\n",
    "Specifies whether metrics data should be ingested and made available in the active event table. For more information, see METRIC_LEVEL and Setting levels for logging, metrics, and tracing.\n",
    "\n",
    "**TRACE_LEVEL**\n",
    "\n",
    "Specifies the verbosity of trace events that should be ingested and made available in the active event table. Events at the specified level are ingested. For more information, see TRACE_LEVEL and Setting levels for logging, metrics, and tracing."
   ]
  },
  {
   "cell_type": "markdown",
   "id": "49accbf0-6fe6-499a-ba03-b88da7476094",
   "metadata": {
    "collapsed": false,
    "name": "cell6"
   },
   "source": [
    "### TRACE_LEVEL\n",
    "**Type**\n",
    "\n",
    "Session — Can be set for Account » User » Session\n",
    "\n",
    "Object (for databases, schemas, stored procedures, and UDFs) — Can be set for Account » Database » Schema » Procedure and Account » Database » Schema » Function\n",
    "\n",
    "**Data Type** String (Constant)\n",
    "\n",
    "**Description**\n",
    "\n",
    "Controls how trace events are ingested into the event table. For more information about trace levels, see Setting levels for logging, metrics, and tracing.\n",
    "\n",
    "**Values**\n",
    "\n",
    "ALWAYS: All spans and trace events will be recorded in the event table.\n",
    "\n",
    "ON_EVENT: Trace events will be recorded in the event table only when your stored procedures or UDFs explicitly add events.\n",
    "\n",
    "OFF: No spans or trace events will be recorded in the event table.\n",
    "\n",
    "**Default** OFF\n",
    "\n",
    "**Note**\n",
    "\n",
    "When tracing events, you must also set the LOG_LEVEL parameter to one of its supported values. (We will do this later)"
   ]
  },
  {
   "cell_type": "code",
   "id": "545af3e9-b063-4f62-b4e9-a1080ca411ee",
   "metadata": {
    "language": "sql",
    "name": "cell28"
   },
   "outputs": [],
   "source": "-- We will create our event table now\nCREATE DATABASE SNOWFLAKE_TRAIL;\nCREATE SCHEMA TELEMETRY;\nCREATE EVENT TABLE SNOWFLAKE_TRAIL.TELEMETRY.EVENTS;",
   "execution_count": null
  },
  {
   "cell_type": "code",
   "id": "757eb92b-3039-438c-a4a3-83959879255c",
   "metadata": {
    "language": "sql",
    "name": "cell30"
   },
   "outputs": [],
   "source": "-- And we now set this event table as the event table for the account\nALTER ACCOUNT SET EVENT_TABLE = SNOWFLAKE_TRAIL.TELEMETRY.EVENTS;",
   "execution_count": null
  },
  {
   "cell_type": "markdown",
   "id": "78654154-179e-4aee-a5c8-a6eb66531aad",
   "metadata": {
    "collapsed": false,
    "name": "cell7"
   },
   "source": "Now, we are going to use OpenWeather API data. You will need to [sign up](https://home.openweathermap.org/users/sign_up) for an account on OpenWeather.\n\nAfter signing up, add a new API key by going to API keys. [Find your API key](https://home.openweathermap.org/api_keys) and copy the API key to the clipboard.\n\n**I'm only using OpenWeather to show you how to make an external call. To test logging & tracing, you don't need to make this call**\n"
  },
  {
   "cell_type": "markdown",
   "id": "906c1146-ad4f-4747-aeba-a523b748f367",
   "metadata": {
    "collapsed": false,
    "name": "cell4"
   },
   "source": [
    "These variables will be used in subsequent cells using the {{variable_name}} syntax in SQL cells, and by using the variable names in Python cells.\n",
    "\n",
    "When running this cell, it will prompt for entering an API key. This was done with the streamlit text_input widget.\n",
    "\n",
    "To get a free API key, sign up for an account on OpenWeather.\n",
    "\n",
    "After signing up, add a new API key by going to API keys. Create a new key with name snowflake_key and click Generate, copy the API key to the clipboard.\n",
    "\n",
    "After generating the key, go back to the Snowsight notebook and paste the key generated in the dialog and hit enter."
   ]
  },
  {
   "cell_type": "code",
   "execution_count": null,
   "id": "c695373e-ac74-4b62-a1f1-08206cbd5c81",
   "metadata": {
    "language": "python",
    "name": "cell3"
   },
   "outputs": [],
   "source": "# These variables will be used in subsequent cells using the {{variable_name}} syntax in SQL cells, and by using the variable names in Python cells.\n\nimport streamlit as st\n\nfrom snowflake.snowpark.context import get_active_session\nsession = get_active_session()\n\nuser_name = session.sql(\"SELECT current_user()\").collect()[0][0]\nschema_name = \"DATA\"\ndatabase_name = \"TRACING_QUICKSTART\"\n\ncity_list = [(37.5533204, -122.3059259, 'San Mateo'),(43.6532, -79.3832, 'Toronto'), (52.3368551, 4.8694973, 'Amsterdam'),(52.5100227, 13.3776724, 'Berlin'), (52.2299305,20.9764142, 'Warsaw'), (18.5645333,73.911966, 'Pune')]\n\napi_key = \"<REPLACE>\""
  },
  {
   "cell_type": "markdown",
   "id": "f518ac79-0ee5-46a7-b823-9c0e9fb852be",
   "metadata": {
    "collapsed": false,
    "name": "cell9"
   },
   "source": [
    "Here you will configure a network rule, secret, and external access integration to allow outbound connectivity to the OpenWeather API. This is necessary because the Python Notebook is secure by default and does not allow network access. A stage is also created to store the permanent UDF and procedure. \"Permanent\" means that the UDF and stored procedure will be stored in the database so that they can be called from outside the Notebook in the future, such as from a SQL query."
   ]
  },
  {
   "cell_type": "code",
   "id": "ca5496ad-6775-4f16-b27b-73ac9763f8d3",
   "metadata": {
    "language": "sql",
    "name": "cell36"
   },
   "outputs": [],
   "source": "USE DATABASE \"{{database_name}}\";\nUSE SCHEMA \"{{schema_name}}\";\n",
   "execution_count": null
  },
  {
   "cell_type": "code",
   "execution_count": null,
   "id": "c2473639-5a94-44f3-8668-fba0e8a37f8f",
   "metadata": {
    "language": "sql",
    "name": "cell10"
   },
   "outputs": [],
   "source": "CREATE OR REPLACE NETWORK RULE OPENWEATHERMAP_API_NETWORK_RULE\n  MODE = EGRESS\n  TYPE = HOST_PORT\n  VALUE_LIST = ('api.openweathermap.org');\n\nCREATE OR REPLACE SECRET OPENWEATHERMAP_API_KEY\n    TYPE = GENERIC_STRING\n    SECRET_STRING = \"{{api_key}}\";\n\nCREATE OR REPLACE EXTERNAL ACCESS INTEGRATION OPENWEATHERMAP_ACCESS_INTEGRATION\n  ALLOWED_NETWORK_RULES = (OPENWEATHERMAP_API_NETWORK_RULE)\n  ALLOWED_AUTHENTICATION_SECRETS = (OPENWEATHERMAP_API_KEY)\n  ENABLED = true;\n\n-- Our stage will be utilized later.\nCREATE STAGE IF NOT EXISTS EXEC_STORAGE;"
  },
  {
   "cell_type": "markdown",
   "id": "1108399b-a856-4d82-8d0f-65780336cecd",
   "metadata": {
    "collapsed": false,
    "name": "cell12"
   },
   "source": "In order to get logs and metrics, levels need to be modified. This can easily be done in SQL.\n\n**LOG_LEVEL** Specifies the severity level of messages that should be ingested and made available in the active event table. Messages at the specified level (and at more severe levels) are ingested.\n\n**METRIC_LEVEL** Controls how metrics data is ingested into the event table. For more information about metric levels, see [Setting levels for logging, metrics, and tracing](https://docs.snowflake.com/en/developer-guide/logging-tracing/telemetry-levels)"
  },
  {
   "cell_type": "code",
   "execution_count": null,
   "id": "e1e7f1c4-3e71-44c5-9b79-fc7b4d6c270a",
   "metadata": {
    "language": "sql",
    "name": "cell11"
   },
   "outputs": [],
   "source": [
    "ALTER DATABASE \"{{database_name}}\" SET LOG_LEVEL = DEBUG;\n",
    "ALTER SCHEMA \"{{schema_name}}\" SET LOG_LEVEL = DEBUG;\n",
    "\n",
    "ALTER DATABASE \"{{database_name}}\" SET METRIC_LEVEL = ALL;\n",
    "ALTER SCHEMA \"{{schema_name}}\" SET METRIC_LEVEL = ALL;\n",
    "\n",
    "ALTER SESSION SET METRIC_LEVEL = ALL;"
   ]
  },
  {
   "cell_type": "markdown",
   "id": "d19162cb-0017-420d-b127-4acb0eafdeca",
   "metadata": {
    "collapsed": false,
    "name": "cell13"
   },
   "source": [
    "A UDF will use the External Access and Secret created previously and pull data from the OpenWeather API using Python Requests library. It will pull the current weather for a specific latitude and longitude.\n",
    "\n",
    "In order to populate the bronze layer, a stored procedure will call the UDF for every city in the city_list to get the current weather. This is done with a dataframe and will append the data to a table for usage in the future.\n",
    "\n",
    "When calling to a 3rd party API like this, it is important to know the performance and potential errors coming from those calls. To trace this information, the function uses a custom span in OpenTelemetry. Review the tracer variable and how that is used. Without the custom span, it would be difficult to know which calls were erroring out to the API and what status code the API was returning.\n",
    "\n",
    "The function will be stored in the database schema and can be used in the future from SQL or Python, as we will do in the next cell."
   ]
  },
  {
   "cell_type": "code",
   "execution_count": null,
   "id": "4f372c80-61dc-43b9-b657-953d28497424",
   "metadata": {
    "language": "python",
    "name": "cell14"
   },
   "outputs": [],
   "source": "import _snowflake\nimport requests\nimport json\nimport logging\n\n\nrsession = requests.Session()\ndef get_weather(lat, lon):\n  \"\"\"\n  A UDF handler. Given a latitude and longitude, this UDF will use external network access to get the \n  weather for that area from the OpenWeatherMap API.\n  \"\"\"\n  logging.debug(f\"Using {lat} and {lon} to find weather\")\n  api_key = _snowflake.get_generic_secret_string('api_key')\n  url = f\"https://api.openweathermap.org/data/2.5/weather?lat={lat}&lon={lon}&exclude=hourly,daily&appid={api_key}\"\n  response = rsession.get(url)\n  logging.debug(f\"Body from API: {response.text} in get_weather\")\n  if response.status_code != 200:\n    logging.warn(f\"Unexpected response from API: {response.status_code} in get_weather\")\n  return response.json()\n\n# Register the UDF\nfrom snowflake.snowpark.context import get_active_session\nfrom snowflake.snowpark.types import VariantType, FloatType, IntegerType, StringType\nsession = get_active_session()\n\nget_weather_fn = session.udf.register(get_weather,\n                                   return_type=VariantType(),\n                                   input_types=[FloatType(),FloatType()],\n                                   name=\"get_weather_fn\",\n                                   replace=True,\n                                   is_permanent=True,\n                                   stage_location=\"EXEC_STORAGE\",\n                                   secrets={'api_key':'OPENWEATHERMAP_API_KEY'},\n                                   external_access_integrations=[\"OPENWEATHERMAP_ACCESS_INTEGRATION\"],\n                                   packages=[\"snowflake-snowpark-python\", \"requests\", \"snowflake-telemetry-python\"])"
  },
  {
   "cell_type": "markdown",
   "id": "35e61e15-9a99-4be8-b25c-4bd919189256",
   "metadata": {
    "name": "cell32",
    "collapsed": false
   },
   "source": "**This call is the same as our call above, just using SQL instead of Python to create the function, but still using Python to run the function**\n"
  },
  {
   "cell_type": "code",
   "id": "5539e38a-54a7-49c4-a9fe-2b8df7e3318d",
   "metadata": {
    "language": "sql",
    "name": "cell31"
   },
   "outputs": [],
   "source": "-- uncomment this if you're already created a function\n-- drop function get_weather_sql_v2(FLOAT, FLOAT);\n\ncreate or replace function get_weather_sql_v2(lat NUMBER, lng NUMBER) \nreturns variant\nlanguage python\nHANDLER = 'get_weather_sql'\nRUNTIME_VERSION = 3.9\nEXTERNAL_ACCESS_INTEGRATIONS = (OPENWEATHERMAP_ACCESS_INTEGRATION)\nPACKAGES = ('snowflake-snowpark-python', 'requests', 'snowflake-telemetry-python')\nSECRETS = ('api_key'= OPENWEATHERMAP_API_KEY)\nAS\n$$\nimport _snowflake\nimport requests\nimport json\nimport logging\n\nrsession = requests.Session()\n\ndef get_weather_sql(lat, lon):\n  logging.debug(\"Starting A UDF handler. Given a latitude and longitude, this UDF will use external network access to get the weather for that area from the OpenWeatherMap API.\")\n\n  logging.debug(f\"Using {lat} and {lon} to find weather\")\n  \n  api_key = _snowflake.get_generic_secret_string('api_key')\n  \n  url = f\"https://api.openweathermap.org/data/2.5/weather?lat={lat}&lon={lon}&exclude=hourly,daily&appid={api_key}\"\n  response = rsession.get(url)\n  \n  logging.debug(f\"Body from API: {response.text} in get_weather\")\n  \n  if response.status_code != 200:\n    logging.warn(f\"Unexpected response from API: {response.status_code} in get_weather\")\n  \n  return response.json()\n\n$$;",
   "execution_count": null
  },
  {
   "cell_type": "code",
   "execution_count": null,
   "id": "6f2a81ef-99bb-41df-94be-694f4c82d416",
   "metadata": {
    "collapsed": false,
    "language": "sql",
    "name": "cell15"
   },
   "outputs": [],
   "source": [
    "-- Here we going to make a call and see if it works.\n",
    "SELECT GET_WEATHER_FN(43.6532, -79.3832)"
   ]
  },
  {
   "cell_type": "code",
   "id": "ce82ca4a-c9fe-4224-8d01-472ef3b583ad",
   "metadata": {
    "language": "sql",
    "name": "cell33"
   },
   "outputs": [],
   "source": "-- Here we going to make a call and see if it works.\nSELECT GET_WEATHER_SQL_V2(43.6532, -79.3832)",
   "execution_count": null
  },
  {
   "cell_type": "markdown",
   "id": "1e302f70-1dfc-400d-91f5-e8ea18a758fb",
   "metadata": {
    "name": "cell35",
    "collapsed": false
   },
   "source": "We can see that it worked, but we lost our precision. Lets take a look at our logs and see what might have happened.\n\nThere is a bit of a lag because logs are processed asynchronously"
  },
  {
   "cell_type": "code",
   "id": "c002c378-b7cb-470c-b7e4-0d96473cf82c",
   "metadata": {
    "language": "sql",
    "name": "cell34"
   },
   "outputs": [],
   "source": "SELECT *\nFROM SNOWFLAKE_TRAIL.TELEMETRY.events order by timestamp desc;",
   "execution_count": null
  },
  {
   "cell_type": "markdown",
   "id": "2ebe7c6b-9a86-4fbd-9c63-e66e3d1fe1a5",
   "metadata": {
    "name": "cell38",
    "collapsed": false
   },
   "source": "We can see that our parameters getting passed in have lost their precision.\n\nIt's because we are passing our variables as numbers instead of as float. Lets make that change and see how things work."
  },
  {
   "cell_type": "code",
   "id": "f0209bad-4310-491e-b25c-a6e010a2ae01",
   "metadata": {
    "language": "sql",
    "name": "cell39"
   },
   "outputs": [],
   "source": "drop function get_weather_sql_v2(NUMBER, NUMBER);\n\ncreate or replace function get_weather_sql_v2(lat FLOAT, lng FLOAT) \nreturns variant\nlanguage python\nHANDLER = 'get_weather_sql'\nRUNTIME_VERSION = 3.9\nEXTERNAL_ACCESS_INTEGRATIONS = (OPENWEATHERMAP_ACCESS_INTEGRATION)\nPACKAGES = ('snowflake-snowpark-python', 'requests', 'snowflake-telemetry-python')\nSECRETS = ('api_key'= OPENWEATHERMAP_API_KEY)\nAS\n$$\nimport _snowflake\nimport requests\nimport json\nimport logging\n\nrsession = requests.Session()\n\ndef get_weather_sql(lat, lon):\n  logging.debug(\"Starting A UDF handler. Given a latitude and longitude, this UDF will use external network access to get the weather for that area from the OpenWeatherMap API.\")\n\n  logging.debug(f\"Using {lat} and {lon} to find weather\")\n  \n  api_key = _snowflake.get_generic_secret_string('api_key')\n  \n  url = f\"https://api.openweathermap.org/data/2.5/weather?lat={lat}&lon={lon}&exclude=hourly,daily&appid={api_key}\"\n  response = rsession.get(url)\n  \n  logging.debug(f\"Body from API: {response.text} in get_weather\")\n  \n  if response.status_code != 200:\n    logging.warn(f\"Unexpected response from API: {response.status_code} in get_weather\")\n  \n  return response.json()\n\n$$;",
   "execution_count": null
  },
  {
   "cell_type": "code",
   "id": "8c2883fb-aab4-43cb-94e3-a587c6f68d8f",
   "metadata": {
    "language": "sql",
    "name": "cell37"
   },
   "outputs": [],
   "source": "-- we can try it one more time and now have our precision back\nSELECT GET_WEATHER_SQL_V2(43.6532, -79.3832)",
   "execution_count": null
  },
  {
   "cell_type": "markdown",
   "id": "6080252b-4ad1-43fc-a84c-eb498f781f2f",
   "metadata": {
    "collapsed": false,
    "name": "cell8"
   },
   "source": "With that little detour completed, now we can go ahead and pull the weather for all the cities in our city_list"
  },
  {
   "cell_type": "code",
   "execution_count": null,
   "id": "f70aeceb-db00-4076-ba5c-f0f3018c2096",
   "metadata": {
    "collapsed": false,
    "language": "python",
    "name": "cell16"
   },
   "outputs": [],
   "source": "# You may need to add opentelemetry-api from the packages dropdown in the top left.\n\nimport datetime \nimport time\nimport snowflake.snowpark\n\nfrom opentelemetry import trace\nfrom snowflake.snowpark.functions import sproc\n\n\ndef get_weather_for_cities(session, to_table, minutes_to_run, seconds_to_wait):\n    \"\"\"\n    A stored procedure handler that reads from the city_list table and calls the UDF to add the wather\n    data as a new column\n    \"\"\"\n    df = session.table(\"city_list\")\n    stop_time = datetime.datetime.utcnow() + datetime.timedelta(minutes = minutes_to_run)\n    tracer = trace.get_tracer(__name__)\n    while datetime.datetime.utcnow() < stop_time:\n        with tracer.start_as_current_span(f\"get_weather_for_all_cities\") as p:\n            pdf = df.select(get_weather_fn(\"lat\", \"lon\").alias(\"current_weather\"), \"name\")\n            pdf.write.mode(\"append\").save_as_table(to_table)\n        time.sleep(seconds_to_wait)\n    return \"OK\"\n\n# Store the city_list for use in the procedure\ndf = session.create_dataframe(city_list).to_df(\"lat\",\"lon\",\"name\")\ndf.write.mode(\"overwrite\").save_as_table(\"city_list\")\n\n# Register the stored procedure\nget_weather_for_cities_sp = session.sproc.register(get_weather_for_cities, \n                                                   name=\"get_weather_for_cities_sp\",\n                                                   return_type=StringType(),\n                                                   input_types=[StringType(),IntegerType(),IntegerType()],\n                                                   is_permanent=True,\n                                                   replace=True,\n                                                   packages=[\"snowflake-snowpark-python\", \"requests\", \"snowflake-telemetry-python\", \"opentelemetry-api\"],\n                                                   stage_location=\"EXEC_STORAGE\")"
  },
  {
   "cell_type": "markdown",
   "id": "cde9a25a-6a27-41d6-8fd7-4de3cdcfa5a5",
   "metadata": {
    "collapsed": false,
    "name": "cell19"
   },
   "source": [
    "We are introducing a delay in this stored procedure, it will run, then sleep for 15 seconds, then run again, until it's ran for 1 minute.\n",
    "\n",
    "After running, the notebook will output the dataframe of bronze_weather_api which includes the current weather for all the cities in city_list."
   ]
  },
  {
   "cell_type": "code",
   "execution_count": null,
   "id": "910ed995-4784-4842-b2fe-5513d46f1138",
   "metadata": {
    "collapsed": false,
    "language": "python",
    "name": "cell17"
   },
   "outputs": [],
   "source": [
    "from snowflake.snowpark.context import get_active_session\n",
    "\n",
    "session = get_active_session()\n",
    "session.sql(\"call get_weather_for_cities_sp('bronze_weather_api', 1, 15)\").collect()\n",
    "session.table(\"bronze_weather_api\")"
   ]
  },
  {
   "cell_type": "code",
   "id": "2d4b1f6c-80ad-4ad8-b4de-fd8cd745e731",
   "metadata": {
    "language": "sql",
    "name": "cell40"
   },
   "outputs": [],
   "source": "-- in SQL, this does the same thing as the above, you don't have to run this, just wanted to show how you could use sql and python to do the same tasks. \ncall get_weather_for_cities_sp('bronze_weather_api', 1, 15)",
   "execution_count": null
  },
  {
   "cell_type": "markdown",
   "id": "8316797a-7bbd-4df7-b1ae-6526eb1d16c3",
   "metadata": {
    "collapsed": false,
    "name": "cell20"
   },
   "source": [
    "And we can query the table that the stored procedure created via sql below"
   ]
  },
  {
   "cell_type": "code",
   "execution_count": null,
   "id": "461cf6bb-6931-4a7b-afd4-769d8ce8b412",
   "metadata": {
    "codeCollapsed": false,
    "collapsed": false,
    "language": "sql",
    "name": "cell18"
   },
   "outputs": [],
   "source": "SELECT NAME, \n       CURRENT_WEATHER['main']['temp']::float as KELVIN_TEMP, \n       CURRENT_WEATHER['weather'][0]['main']::varchar as CONDITIONS \nFROM bronze_weather_api\nQUALIFY ROW_NUMBER() over (partition by NAME order by CURRENT_WEATHER['dt'] desc) = 1;"
  },
  {
   "cell_type": "markdown",
   "id": "5f8ff532-fcde-46db-9f11-c87617b8e567",
   "metadata": {
    "collapsed": false,
    "name": "cell21"
   },
   "source": [
    "Now we are going to view the traces. We can do this via sql or we can do it via Snowsight.\n",
    "\n",
    "We'll start with viewing the data via sql.\n",
    "\n",
    "Memory and CPU metrics are also available because the session set the METRIC_LEVEL to all.\n",
    "\n",
    "To get to this data, it is in the Events table."
   ]
  },
  {
   "cell_type": "code",
   "execution_count": null,
   "id": "939fbade-b7de-4a07-a7bc-3f7019f18b9d",
   "metadata": {
    "language": "sql",
    "name": "cell22"
   },
   "outputs": [],
   "source": [
    "SHOW PARAMETERS LIKE 'event_table' IN ACCOUNT;"
   ]
  },
  {
   "cell_type": "code",
   "execution_count": null,
   "id": "9f134498-7929-4e6a-95d2-a1febdbaad64",
   "metadata": {
    "language": "sql",
    "name": "cell23"
   },
   "outputs": [],
   "source": "-- Query the memory and cpu metrics with this query:\n\nSELECT *\nFROM SNOWFLAKE_TRAIL.TELEMETRY.events\nWHERE\n    RECORD_TYPE = 'SPAN' \n    and RESOURCE_ATTRIBUTES['db.user'] = '{{user_name}}' \n    and RESOURCE_ATTRIBUTES['snow.database.name'] = '{{database_name}}' \n    and RESOURCE_ATTRIBUTES['snow.schema.name'] = '{{schema_name}}'\nORDER BY TIMESTAMP DESC;"
  },
  {
   "cell_type": "code",
   "execution_count": null,
   "id": "a9b76ab6-75e7-4761-a3a5-44eaf49c6353",
   "metadata": {
    "language": "sql",
    "name": "cell24"
   },
   "outputs": [],
   "source": "-- and we query the logs in the same way\nSELECT *\nFROM SNOWFLAKE_TRAIL.TELEMETRY.events\nWHERE\n    RECORD_TYPE = 'LOG' \n    and RESOURCE_ATTRIBUTES['db.user'] = '{{user_name}}' \n    and RESOURCE_ATTRIBUTES['snow.database.name'] = '{{database_name}}' \n    and RESOURCE_ATTRIBUTES['snow.schema.name'] = '{{schema_name}}'\nORDER BY TIMESTAMP DESC;"
  },
  {
   "cell_type": "markdown",
   "id": "22ff267c-5b6e-4529-92ff-75b0007b6907",
   "metadata": {
    "collapsed": false,
    "name": "cell25"
   },
   "source": [
    "To view this data in Snowsight, Click on the left navigation item \"Monitoring\" > \"Traces & Logs\".\n",
    "\n",
    "Traces can take a minute to show up, so you may have to wait and refresh until they appear. You may have to filter using the Database filter and selecting TRACING_QUICKSTART if there are other traces in the account.\n",
    "\n",
    "Look for the trace with the name GET_WEATHER_FOR_CITIES_SP and open to see the span details. Notice the get_weather_for_all_cities spans which are the more time consuming parts of the procedure. You can see fetching the data from the API and saving is only a few seconds, but the entire runtime of the procedure is over a minute.\n",
    "\n",
    "If you expand the get_weather_fn entry under get_weather_for_all_cities, you can see the Debug Logs by clicking on Logs on the trace to see all the http request information.\n",
    "\n",
    "This tracing information shows the entire execution timeline with information on every call."
   ]
  },
  {
   "cell_type": "markdown",
   "id": "5e906225-b23f-4df4-8676-89228e2587c3",
   "metadata": {
    "collapsed": false,
    "name": "cell26"
   },
   "source": [
    "To clean up, we'll go ahead and change the tracing, metrics and logging level similar to how we enabled it."
   ]
  },
  {
   "cell_type": "code",
   "execution_count": null,
   "id": "13f19f0f-90a5-4172-8146-76abd213ed98",
   "metadata": {
    "language": "sql",
    "name": "cell27"
   },
   "outputs": [],
   "source": [
    "ALTER DATABASE \"{{database_name}}\" SET LOG_LEVEL = WARN;\n",
    "ALTER SCHEMA \"{{schema_name}}\" SET LOG_LEVEL = WARN;\n",
    "\n",
    "ALTER DATABASE \"{{database_name}}\" SET TRACE_LEVEL = OFF;\n",
    "ALTER SCHEMA \"{{schema_name}}\" SET TRACE_LEVEL = OFF;\n",
    "\n",
    "ALTER DATABASE \"{{database_name}}\" SET METRIC_LEVEL = NONE;\n",
    "ALTER SCHEMA \"{{schema_name}}\" SET METRIC_LEVEL = NONE;\n",
    "\n",
    "ALTER SESSION SET METRIC_LEVEL = NONE;"
   ]
  }
 ]
}