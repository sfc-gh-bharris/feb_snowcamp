{
 "metadata": {
  "kernelspec": {
   "display_name": "Streamlit Notebook",
   "name": "streamlit"
  },
  "lastEditStatus": {
   "notebookId": "nbpz474xnqaxs3zwmknz",
   "authorId": "394090024763",
   "authorName": "BHARRIS_DEMO",
   "authorEmail": "bradley.harris@snowflake.com",
   "sessionId": "8bbe065f-858f-4440-97bb-82180976dec4",
   "lastEditTime": 1738940196232
  }
 },
 "nbformat_minor": 5,
 "nbformat": 4,
 "cells": [
  {
   "cell_type": "markdown",
   "id": "098dbbc4-ab61-4ff1-b0c3-55033044a6a2",
   "metadata": {
    "name": "cell4",
    "collapsed": false
   },
   "source": "We will use the Python \"Faker\" library to generate some test data required for this project. You don't need to learn python to use Dynamic Tables, it's only used to generate sample datasets. In order to run this python code we will build and use Python UDTF"
  },
  {
   "cell_type": "markdown",
   "id": "37920165-e6d1-4cf5-a88c-6be27bc79215",
   "metadata": {
    "name": "cell5",
    "collapsed": false
   },
   "source": "we will create 3 UDTF to generate our source data. First table is CUST_INFO and insert 1000 customers into it using this new Python UDTF."
  },
  {
   "cell_type": "code",
   "id": "f4199685-f59c-4200-a51a-0c01cad2e67c",
   "metadata": {
    "language": "sql",
    "name": "cell13"
   },
   "outputs": [],
   "source": "use database SNOW_DYNAMIC_TABLES_DE;\nuse schema data;",
   "execution_count": null
  },
  {
   "cell_type": "code",
   "id": "3775908f-ca36-4846-8f38-5adca39217f2",
   "metadata": {
    "language": "sql",
    "name": "cell1"
   },
   "source": "create or replace function gen_cust_info(num_records number)\nreturns table (custid number(10), cname varchar(100), spendlimit number(10,2))\nlanguage python\nruntime_version=3.8\nhandler='CustTab'\npackages = ('Faker')\nas $$\nfrom faker import Faker\nimport random\n\nfake = Faker()\n# Generate a list of customers  \n\nclass CustTab:\n    # Generate multiple customer records\n    def process(self, num_records):\n        customer_id = 1000 # Starting customer ID                 \n        for _ in range(num_records):\n            custid = customer_id + 1\n            cname = fake.name()\n            spendlimit = round(random.uniform(1000, 10000),2)\n            customer_id += 1\n            yield (custid,cname,spendlimit)\n\n$$;\n\ncreate or replace table cust_info as select * from table(gen_cust_info(1000)) order by 1;",
   "execution_count": null,
   "outputs": []
  },
  {
   "cell_type": "markdown",
   "id": "fe0a5895-ec7f-400d-bb86-f025eed89d08",
   "metadata": {
    "name": "cell14",
    "collapsed": false
   },
   "source": "Just to show another feature real quick, we can create a .jar, upload it to a stage and then call it via a stored procedure.\n\nI'm going to zoom through a few steps, but first, lets load up IntelliJ and take a look at some code we created.\n\nThis code creates some fake data for us. We can run it locally, but then want to build a jar (with dependencies)\n\nWhen that is complete, we'll move the jar to Snowflake via our put command\n\n* Need to connect via snowsql to upload the jar if it's over 50mb\n* snowsql -a <YOUR_ACCOUNT_HERE> -w <YOUR_WAREHOUSE_HERE> -u <YOUR_USER_HERE>\n* then make sure you use the right database and schema\n* this will upload your jar to the stage\n* put file:////Users/bharris/src/github/snowpark-java-examples/EnrichData/target/EnrichData-1.0-SNAPSHOT-jar-with-dependencies.jar @~/JAVA_STAGE/ auto_compress = false OVERWRITE=true;\n\nOnce the jar has been uploaded to the stage, you can create your function(s)\n\n```\ncreate or replace function generateFull(num number)\nreturns variant\nlanguage java\nimports = ('@~/JAVA_STAGE/EnrichData-1.0-SNAPSHOT-jar-with-dependencies.jar')\nhandler = 'com.snowflake.udf.FakeData.generateFull';\n\ncreate or replace function generateBasic(num number(9,0))\nreturns variant\nlanguage java\nimports = ('@~/JAVA_STAGE/EnrichData-1.0-SNAPSHOT-jar-with-dependencies.jar')\nhandler = 'com.snowflake.udf.FakeData.generateBasic';\n\ncreate or replace function generatebasictablerows(num number)\nreturns table(firstName varchar, lastName varchar, email varchar, phone varchar, address varchar)\nlanguage java\nimports = ('@~/JAVA_STAGE/EnrichData-1.0-SNAPSHOT-jar-with-dependencies.jar')\nhandler = 'com.snowflake.udf.FakeDataTable';\n```\n"
  },
  {
   "cell_type": "markdown",
   "id": "4f2befb6-fdd7-4463-a5e0-1141a9b9577d",
   "metadata": {
    "name": "cell15",
    "collapsed": false
   },
   "source": "And while you can't run Java code in notebooks, you can still create a stored procedure that runs Java code in SQL"
  },
  {
   "cell_type": "code",
   "id": "1a8be1ac-906e-416e-a189-38290b9b02e0",
   "metadata": {
    "language": "sql",
    "name": "cell16"
   },
   "outputs": [],
   "source": "create or replace function echo_varchar(x varchar, y number)\nreturns varchar\nlanguage java\ncalled on null input\nhandler='TestFunc.echoVarchar'\ntarget_path='@~/testfuncloopv2.jar'\nas\n'class TestFunc {\n  public static String echoVarchar(String x, Integer y) {\n\n    StringBuffer rtn = new StringBuffer();\n    \n    for(int z=0;z<y;z++)\n    {\n        rtn.append(x + \" \");\n    }\n    return rtn.toString();\n  }\n}';",
   "execution_count": null
  },
  {
   "cell_type": "code",
   "id": "a6ef547c-0b0c-4af7-8031-4d928a63bde6",
   "metadata": {
    "language": "sql",
    "name": "cell17"
   },
   "outputs": [],
   "source": "select echo_varchar('Hi!', 5);",
   "execution_count": null
  },
  {
   "cell_type": "markdown",
   "id": "2a93af8c-5ca5-40b7-a4a5-d1ab4709c521",
   "metadata": {
    "name": "cell6",
    "collapsed": false
   },
   "source": "Next table is PROD_STOCK_INV and insert 100 products inventory into it using this new Python UDTF.\n\n"
  },
  {
   "cell_type": "code",
   "id": "8d50cbf4-0c8d-4950-86cb-114990437ac9",
   "metadata": {
    "language": "sql",
    "name": "cell2"
   },
   "source": "create or replace function gen_prod_inv(num_records number)\nreturns table (pid number(10), pname varchar(100), stock number(10,2), stockdate date)\nlanguage python\nruntime_version=3.8\nhandler='ProdTab'\npackages = ('Faker')\nas $$\nfrom faker import Faker\nimport random\nfrom datetime import datetime, timedelta\nfake = Faker()\n\nclass ProdTab:\n    # Generate multiple product records\n    def process(self, num_records):\n        product_id = 100 # Starting customer ID                 \n        for _ in range(num_records):\n            pid = product_id + 1\n            pname = fake.catch_phrase()\n            stock = round(random.uniform(500, 1000),0)\n            # Get the current date\n            current_date = datetime.now()\n            \n            # Calculate the maximum date (3 months from now)\n            min_date = current_date - timedelta(days=90)\n            \n            # Generate a random date within the date range\n            stockdate = fake.date_between_dates(min_date,current_date)\n\n            product_id += 1\n            yield (pid,pname,stock,stockdate)\n\n$$;\n\ncreate or replace table prod_stock_inv as select * from table(gen_prod_inv(100)) order by 1;\n",
   "execution_count": null,
   "outputs": []
  },
  {
   "cell_type": "markdown",
   "id": "528196e5-8430-45c0-b125-1245137850ad",
   "metadata": {
    "name": "cell7",
    "collapsed": false
   },
   "source": "Next table is SALESDATA to store raw product sales by customer and purchase date\n\n"
  },
  {
   "cell_type": "code",
   "id": "c695373e-ac74-4b62-a1f1-08206cbd5c81",
   "metadata": {
    "language": "sql",
    "name": "cell3"
   },
   "source": "create or replace function gen_cust_purchase(num_records number,ndays number)\nreturns table (custid number(10), purchase variant)\nlanguage python\nruntime_version=3.8\nhandler='genCustPurchase'\npackages = ('Faker')\nas $$\nfrom faker import Faker\nimport random\nfrom datetime import datetime, timedelta\n\nfake = Faker()\n\nclass genCustPurchase:\n    # Generate multiple customer purchase records\n    def process(self, num_records,ndays):       \n        for _ in range(num_records):\n            c_id = fake.random_int(min=1001, max=1999)\n            \n            #print(c_id)\n            customer_purchase = {\n                'custid': c_id,\n                'purchased': []\n            }\n            # Get the current date\n            current_date = datetime.now()\n            \n            # Calculate the maximum date (days from now)\n            min_date = current_date - timedelta(days=ndays)\n            \n            # Generate a random date within the date range\n            pdate = fake.date_between_dates(min_date,current_date)\n            \n            purchase = {\n                'prodid': fake.random_int(min=101, max=199),\n                'quantity': fake.random_int(min=1, max=5),\n                'purchase_amount': round(random.uniform(10, 1000),2),\n                'purchase_date': pdate\n            }\n            customer_purchase['purchased'].append(purchase)\n            \n            #customer_purchases.append(customer_purchase)\n            yield (c_id,purchase)\n\n$$;\n\n-- Create table and insert records \ncreate or replace table salesdata as select * from table(gen_cust_purchase(10000,10));",
   "execution_count": null,
   "outputs": []
  },
  {
   "cell_type": "markdown",
   "id": "b1519033-864f-4f6f-8cf8-effb9b246552",
   "metadata": {
    "name": "cell8",
    "collapsed": false
   },
   "source": "This completes our sample data stored in raw base tables. In real world, you will load this data into Snowflake either using COPY COMMAND, connectors, Snowpipe or Snowpipe Streaming"
  },
  {
   "cell_type": "markdown",
   "id": "9cb15a6c-ca4e-4d92-93eb-55e6cf20b209",
   "metadata": {
    "name": "cell9"
   },
   "source": ""
  },
  {
   "cell_type": "code",
   "id": "68871352-5415-4d88-b59e-c21c7f2effc1",
   "metadata": {
    "language": "sql",
    "name": "cell10"
   },
   "outputs": [],
   "source": "-- customer information table, each customer has spending limits\nselect * from cust_info limit 10;",
   "execution_count": null
  },
  {
   "cell_type": "code",
   "id": "0ed14c68-250c-48a7-8299-6d62e4b49376",
   "metadata": {
    "language": "sql",
    "name": "cell11"
   },
   "outputs": [],
   "source": "-- product stock table, each product has stock level from fulfilment day\nselect * from prod_stock_inv limit 10;",
   "execution_count": null
  },
  {
   "cell_type": "code",
   "id": "c16b44c5-c804-4343-af01-b0b01d2963a9",
   "metadata": {
    "language": "sql",
    "name": "cell12"
   },
   "outputs": [],
   "source": "-- sales data for products purchsaed online by various customers\nselect * from salesdata limit 10;",
   "execution_count": null
  }
 ]
}