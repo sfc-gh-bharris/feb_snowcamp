{
 "metadata": {
  "kernelspec": {
   "display_name": "Streamlit Notebook",
   "name": "streamlit"
  },
  "lastEditStatus": {
   "notebookId": "cu6vd7ofr57yxn3swz2p",
   "authorId": "1011012698186",
   "authorName": "BHARRIS",
   "authorEmail": "bradley.harris@snowflake.com",
   "sessionId": "2b56099f-c7cd-430e-8bd6-606c5357941d",
   "lastEditTime": 1738353548348
  }
 },
 "nbformat_minor": 5,
 "nbformat": 4,
 "cells": [
  {
   "cell_type": "markdown",
   "id": "3775908f-ca36-4846-8f38-5adca39217f2",
   "metadata": {
    "name": "cell1",
    "collapsed": false
   },
   "source": "## Inserting Data from a Dataframe with Snowpark\n\nIf data is being processed by Snowpark (data is in a Dataframe) which needs to be inserted into Snowflake, we have built in capabilities to do so!\n\nWe will use write_pandas to append data into the destination table. It can also be used to overwrite tables."
  },
  {
   "cell_type": "code",
   "id": "8d50cbf4-0c8d-4950-86cb-114990437ac9",
   "metadata": {
    "language": "sql",
    "name": "cell2"
   },
   "source": "-- First, create the table for the data to be written to.\nUSE ROLE INGEST;\n\nUSE DATABASE INGEST;\nUSE SCHEMA INGEST;\n\nCREATE OR REPLACE TABLE LIFT_TICKETS_PY_SNOWPARK (TXID varchar(255), RFID varchar(255), RESORT varchar(255), PURCHASE_TIME datetime, EXPIRATION_TIME date, DAYS number, NAME varchar(255), ADDRESS variant, PHONE varchar(255), EMAIL varchar(255), EMERGENCY_CONTACT variant);",
   "execution_count": null,
   "outputs": []
  },
  {
   "cell_type": "markdown",
   "id": "ddf2226e-bf1b-4ae6-b137-a44a301fc852",
   "metadata": {
    "name": "cell4",
    "collapsed": false
   },
   "source": "We will use the file named py_snowpark.py with this code. This code will need to be modified if you changed your data generator.\n\nThe big change in this example is the usage of write_pandas. You can see the DataFrame being loaded as well as it directly appended to the table. In the connector, this data is being serialized to arrow, uploaded to Snowflake for efficient insert.\n\nIn order to test this insert, run the following in your shell:\n\n```\npython ./data_generator.py 1 | python py_snowpark.py 1\n```"
  },
  {
   "cell_type": "code",
   "id": "b0d36b28-656d-4669-9f43-6d1f19c6580a",
   "metadata": {
    "language": "sql",
    "name": "cell5"
   },
   "outputs": [],
   "source": "-- Query the table to verify the data was inserted.\n\nSELECT count(*) FROM LIFT_TICKETS_PY_SNOWPARK;",
   "execution_count": null
  },
  {
   "cell_type": "markdown",
   "id": "41a98347-c2b0-4ef0-8b47-cf544f55e38a",
   "metadata": {
    "name": "cell6",
    "collapsed": false
   },
   "source": "To send in all your test data, you can run the following in your shell:\n\n```\ncat data.json.gz | zcat | python py_snowpark.py 10000\n```"
  },
  {
   "cell_type": "markdown",
   "id": "c695373e-ac74-4b62-a1f1-08206cbd5c81",
   "metadata": {
    "name": "cell3",
    "collapsed": false
   },
   "source": "### Tips\n* Ingest is billed based on warehouse credits consumed while online.\n* Most efficient when batches get closer to 100mb.\n* Great for when data has been processed using DataFrames."
  }
 ]
}