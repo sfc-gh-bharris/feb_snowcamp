{
 "cells": [
  {
   "cell_type": "markdown",
   "id": "57e38576-56d0-43b4-bfdb-d0dd66d48a44",
   "metadata": {
    "collapsed": false,
    "name": "cell4"
   },
   "source": [
    "## Overview\n",
    "\n",
    "There are many different ways to get data into Snowflake. Different use cases, requirements, team skillsets, and technology choices all contribute to making the right decision on how to ingest data. This quickstart will guide you through an example of the same data loaded with different methods:\n",
    "\n",
    "*   SQL Inserts from the Python Connector\n",
    "*   File Upload & Copy (Warehouse) from the Python Connector\n",
    "*   File Upload & Copy (Snowpipe) using Python\n",
    "*   File Upload & Copy (Serverless) from the Python Connector\n",
    "*   Inserting Data from a Dataframe with Snowpark\n",
    "*   From Kafka - in Snowpipe (Batch) mode\n",
    "*   From Kafka - in Snowpipe Streaming mode\n",
    "*   From Java SDK - Using the Snowflake Ingest Service\n",
    "\n",
    "Prerequisites\n",
    "\n",
    "*   Snowflake Account with the ability to create a User, Role, Database, Snowpipe, Serverless Task, Execute Task\n",
    "*   Familiarity with Python, Kafka, and/or Java\n",
    "*   Basic knowledge of Docker\n",
    "*   Ability to run Docker locally\n",
    "\n",
    "Mac Requirements\n",
    "\n",
    "*   [Docker](https://docs.docker.com/desktop/install/mac-install/) Installed\n",
    "*   [Conda](https://docs.conda.io/projects/conda/en/latest/user-guide/install/macos.html) Installed\n",
    "\n",
    "Linux Requirements\n",
    "\n",
    "*   [Docker](https://docs.docker.com/engine/install/ubuntu/) Installed\n",
    "*   [Conda](https://docs.conda.io/projects/conda/en/stable/user-guide/install/linux.html) Installed\n",
    "\n",
    "Windows Requirements\n",
    "\n",
    "*   [WSL with Ubuntu](https://learn.microsoft.com/en-us/windows/wsl/install) for Windows\n",
    "*   [Docker](https://docs.docker.com/engine/install/ubuntu/) Installed in Ubuntu\n",
    "*   [Conda](https://docs.conda.io/projects/conda/en/stable/user-guide/install/linux.html) Installed in Ubuntu\n"
   ]
  },
  {
   "cell_type": "markdown",
   "id": "ab56f6ea-5466-4916-b165-d20812d933ab",
   "metadata": {
    "collapsed": false,
    "name": "cell5"
   },
   "source": [
    "To create the environment needed, run the following in your shell, using the environment.yml found in the Snowflake Data Ingestion\\python folder.\n",
    "\n",
    "``` \n",
    "conda env create -f environment.yml\n",
    "conda activate sf-ingest-examples \n",
    "```\n"
   ]
  },
  {
   "cell_type": "markdown",
   "id": "11c1d03e-e150-4b72-8f35-bde1c95a4958",
   "metadata": {
    "collapsed": false,
    "name": "cell6"
   },
   "source": [
    "Ok, with that done, we're going to start generating fake data."
   ]
  },
  {
   "cell_type": "markdown",
   "id": "d76a03a5-fdf1-4147-9442-b892f6654e1d",
   "metadata": {
    "collapsed": false,
    "name": "cell7"
   },
   "source": [
    "Most of the ingest patterns we will go through in this guide will actually outperform the faker library so it is best to run the data generation once and reuse that generated data in the different ingest patterns.\n",
    "\n",
    "In your \"Snowflake Data Ingestion\\python\\\" folder, you will see data_generator.py. \n",
    "\n",
    "This code will take the number of tickets to create as an arg and output the json data with one lift ticket (record) per line. The rest of the files in this guide will be put in this same directory."
   ]
  },
  {
   "cell_type": "markdown",
   "id": "90856b36-ff59-4074-a878-9479fb005090",
   "metadata": {
    "collapsed": false,
    "name": "cell8"
   },
   "source": [
    "To test this generator, run the following in your shell:\n",
    "\n",
    "``` python ./data_generator.py 1 ```\n",
    "You should see 1 record written to output.\n",
    "\n",
    "In order to quickly have data available for the rest of the guide, dump a lot of data to a file for re-use.\n",
    "\n",
    "Run the following in your shell:\n",
    "\n",
    "``` python ./data_generator.py 100000 | gzip > data.json.gz ```\n",
    "\n",
    "You can increase or decrease the size of records to any number that you would like to use. This will currently output the sample data to your current directory, but you can pick any folder you would like. This file will be used in subsequent steps so note where you stored this data and replace later if needed."
   ]
  },
  {
   "cell_type": "markdown",
   "id": "dc477b64-addf-48a2-af31-e938c81ae024",
   "metadata": {
    "collapsed": false,
    "name": "cell9"
   },
   "source": [
    "We're going to go ahead and create a new role, warehouse, database and schema"
   ]
  },
  {
   "cell_type": "code",
   "execution_count": null,
   "id": "3f6440fb-3d9c-44d0-8011-22211102844e",
   "metadata": {
    "language": "sql",
    "name": "cell11"
   },
   "outputs": [],
   "source": [
    "SET VAR_UNAME = (SELECT CURRENT_USER);\n",
    "select $VAR_UNAME;"
   ]
  },
  {
   "cell_type": "code",
   "execution_count": null,
   "id": "2df45227-0a22-4368-9e19-ff9a68a6e1af",
   "metadata": {
    "language": "sql",
    "name": "cell10"
   },
   "outputs": [],
   "source": [
    "CREATE or REPLACE WAREHOUSE INGEST;\n",
    "CREATE or REPLACE ROLE INGEST;\n",
    "GRANT USAGE ON WAREHOUSE INGEST TO ROLE INGEST;\n",
    "GRANT OPERATE ON WAREHOUSE INGEST TO ROLE INGEST;\n",
    "GRANT USAGE ON WAREHOUSE SNOW_INGESTION_WH TO ROLE INGEST;\n",
    "GRANT OPERATE ON WAREHOUSE SNOW_INGESTION_WH TO ROLE INGEST;\n",
    "CREATE or REPLACE DATABASE INGEST;\n",
    "CREATE or REPLACE SCHEMA INGEST;\n",
    "GRANT OWNERSHIP ON DATABASE INGEST TO ROLE INGEST;\n",
    "GRANT OWNERSHIP ON SCHEMA INGEST.INGEST TO ROLE INGEST;\n",
    "\n",
    "-- Change this password.\n",
    "CREATE or REPLACE USER INGEST PASSWORD='<CHANGE_THIS>' LOGIN_NAME='INGEST' MUST_CHANGE_PASSWORD=FALSE, DISABLED=FALSE, DEFAULT_WAREHOUSE='INGEST', DEFAULT_NAMESPACE='INGEST.INGEST', DEFAULT_ROLE='INGEST';\n",
    "GRANT ROLE INGEST TO USER INGEST;\n",
    "GRANT ROLE INGEST TO USER IDENTIFIER($VAR_UNAME);"
   ]
  },
  {
   "cell_type": "markdown",
   "id": "36a872ba-afe5-4501-94b8-0430682ba8a0",
   "metadata": {
    "collapsed": false,
    "name": "cell13"
   },
   "source": [
    "Now, we need to go back to our shell and run the following:\n",
    "\n",
    "```\n",
    "openssl genrsa 4096 | openssl pkcs8 -topk8 -inform PEM -out rsa_key.p8 -nocrypt\n",
    "openssl rsa -in rsa_key.p8 -pubout -out rsa_key.pub\n",
    "PUBK=`cat ./rsa_key.pub | grep -v KEY- | tr -d '\\012'`\n",
    "echo \"ALTER USER INGEST SET RSA_PUBLIC_KEY='$PUBK';\n",
    "```\n"
   ]
  },
  {
   "cell_type": "markdown",
   "id": "e494341c-787d-4709-8f4c-d3f87657e49a",
   "metadata": {
    "collapsed": false,
    "name": "cell14"
   },
   "source": [
    "You'll copy the output of the command above and paste that and run it below (replace what is here)."
   ]
  },
  {
   "cell_type": "code",
   "execution_count": null,
   "id": "44e2b805-1b2a-41c5-a143-b50e88f7a278",
   "metadata": {
    "language": "sql",
    "name": "cell15"
   },
   "outputs": [],
   "source": [
    "ALTER USER INGEST SET RSA_PUBLIC_KEY='<REPLACE>';"
   ]
  },
  {
   "cell_type": "markdown",
   "id": "b6aa2991-965f-4957-bdc1-8d8805a2c2e3",
   "metadata": {
    "collapsed": false,
    "name": "cell16"
   },
   "source": [
    "Now, you need to get the private key for the user by running the following in your shell.\n",
    "\n",
    "```\n",
    "PRVK=`cat ./rsa_key.p8 | grep -v KEY- | tr -d '\\012'`\n",
    "echo \"PRIVATE_KEY=$PRVK\"\n",
    "```"
   ]
  },
  {
   "cell_type": "markdown",
   "id": "ca3acbd7-10d4-4ecf-8563-c6ac09784f0b",
   "metadata": {
    "collapsed": false,
    "name": "cell17"
   },
   "source": [
    "Now, on to our last step to get things set up.\n",
    "\n",
    "You should have a ras_key.p8 files and an ras_key.pub file\n",
    "\n",
    "The final file we need to create is a .env file.\n",
    "\n",
    "It will follow the following format:\n",
    "\n",
    "```\n",
    "SNOWFLAKE_ACCOUNT=<ACCOUNT_HERE>\n",
    "SNOWFLAKE_USER=INGEST\n",
    "PRIVATE_KEY=<PRIVATE_KEY_HERE>\n",
    "```\n",
    "\n",
    "Your PRIVATE_KEY should have been output from your command above and you can find your account by clicking on your initials on the bottom left, hovering over your account, and copying the \"locator\"\n",
    "\n",
    "### Make sure you protect your .env and .p8 file as those are credentials directly to the INGEST user.\n",
    "\n"
   ]
  }
 ],
 "metadata": {
  "kernelspec": {
   "display_name": "Streamlit Notebook",
   "name": "streamlit"
  },
  "lastEditStatus": {
   "authorEmail": "bradley.harris@snowflake.com",
   "authorId": "1011012698186",
   "authorName": "BHARRIS",
   "lastEditTime": 1738344412799,
   "notebookId": "4lo7de4lq23znnlzwos3",
   "sessionId": "25e40016-da26-487a-bbba-c5f525666944"
  }
 },
 "nbformat": 4,
 "nbformat_minor": 5
}
