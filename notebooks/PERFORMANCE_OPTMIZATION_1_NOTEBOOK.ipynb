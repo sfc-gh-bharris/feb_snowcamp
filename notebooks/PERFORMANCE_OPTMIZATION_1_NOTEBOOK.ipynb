{
 "metadata": {
  "kernelspec": {
   "display_name": "Streamlit Notebook",
   "name": "streamlit"
  },
  "lastEditStatus": {
   "notebookId": "bqvl73yg5sompr5iy7kp",
   "authorId": "1011012698186",
   "authorName": "BHARRIS",
   "authorEmail": "bradley.harris@snowflake.com",
   "sessionId": "555dc322-de31-4a01-b7c7-f1f51eb355a9",
   "lastEditTime": 1738863949408
  }
 },
 "nbformat_minor": 5,
 "nbformat": 4,
 "cells": [
  {
   "cell_type": "markdown",
   "id": "3775908f-ca36-4846-8f38-5adca39217f2",
   "metadata": {
    "name": "cell1",
    "collapsed": false
   },
   "source": "# Performance Optimization\n\nGo ahead and close this notebook and look for the PERFORMANCE_OPTIMIZATION_1_WORKSHEET to continue.\n"
  }
 ]
}