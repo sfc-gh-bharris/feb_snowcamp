{
 "metadata": {
  "kernelspec": {
   "display_name": "Streamlit Notebook",
   "name": "streamlit"
  },
  "lastEditStatus": {
   "notebookId": "l7dlpxpcloiuc6uottmz",
   "authorId": "394090024763",
   "authorName": "BHARRIS_DEMO",
   "authorEmail": "bradley.harris@snowflake.com",
   "sessionId": "58bb009e-62a1-4442-bfde-6af986caafd6",
   "lastEditTime": 1738965611029
  }
 },
 "nbformat_minor": 5,
 "nbformat": 4,
 "cells": [
  {
   "cell_type": "markdown",
   "id": "3775908f-ca36-4846-8f38-5adca39217f2",
   "metadata": {
    "name": "cell1",
    "collapsed": false
   },
   "source": "### DocumentAI\n\nPlease note that much of the work for this session will not be done in this notebook, it will be done via Snowsight\n\nYou may want to create a new window to do your work and keep this window open for instructions."
  },
  {
   "cell_type": "markdown",
   "id": "2391f5d8-d567-45fa-b559-061c06855f27",
   "metadata": {
    "name": "cell4",
    "collapsed": false
   },
   "source": "We will walk through how to train and leverage a Document Extraction Model using Document AI. We will use this model to convert unstructured Inspection Reports into structured, easy-to-analyze rows and columns all within the Snowflake AI Data Cloud.\n\n* [Document AI Documentation](https://docs.snowflake.com/en/user-guide/snowflake-cortex/document-ai/overview)\n* [Snowflake's Artic-TILT LLM for Document](https://www.snowflake.com/en/blog/arctic-tilt-compact-llm-advanced-document-ai/)"
  },
  {
   "cell_type": "markdown",
   "id": "acbd426c-8a16-4c1f-9184-2ff8efe8443b",
   "metadata": {
    "name": "cell5",
    "collapsed": false
   },
   "source": "First, we'll do a little additional setup."
  },
  {
   "cell_type": "code",
   "id": "8d50cbf4-0c8d-4950-86cb-114990437ac9",
   "metadata": {
    "language": "sql",
    "name": "cell2"
   },
   "source": "-- assume the accountadmin role\n\n/** NOTE TO BRAD - SAVE TIME AND DON'T RUN THIS, USE THE WORK ALREADY DONE **/\n\nUSE ROLE accountadmin;\nUSE DATABASE DOCAI;\n\n-- create the raw_doc schema\nCREATE OR REPLACE SCHEMA RAW_DOC;\n\n-- create the doc_ai stage\nCREATE STAGE if not exists RAW_DOC.DOC_AI\n    DIRECTORY = (ENABLE = TRUE)\n    ENCRYPTION =  (TYPE = 'SNOWFLAKE_SSE');\n\n-- create the inspection_reports stage\nCREATE STAGE if not exists RAW_DOC.INSPECTION_REPORTS\n    DIRECTORY = (ENABLE = TRUE)\n    ENCRYPTION =  (TYPE = 'SNOWFLAKE_SSE');\n\n\n-- create the tb_doc_ai role\nCREATE OR REPLACE ROLE tb_doc_ai;\n\n-- grant document ai privileges\nGRANT DATABASE ROLE SNOWFLAKE.DOCUMENT_INTELLIGENCE_CREATOR TO ROLE tb_doc_ai;\n\n-- grant doc_ai warehouse privileges\nGRANT USAGE, OPERATE ON WAREHOUSE DOCAI_WH TO ROLE tb_doc_ai;\n\n-- grant tb_doc_ai database privileges\nGRANT ALL ON DATABASE DOCAI TO ROLE tb_doc_ai;\nGRANT ALL ON SCHEMA DOCAI.RAW_DOC TO ROLE tb_doc_ai;\nGRANT CREATE STAGE ON SCHEMA DOCAI.RAW_DOC TO ROLE tb_doc_ai;\nGRANT CREATE SNOWFLAKE.ML.DOCUMENT_INTELLIGENCE ON SCHEMA DOCAI.RAW_DOC TO ROLE tb_doc_ai;\nGRANT ALL ON ALL STAGES IN SCHEMA DOCAI.RAW_DOC TO ROLE tb_doc_ai;\ngrant usage on warehouse DOCAI_WH to role tb_doc_ai;\n\n-- set my_user_var variable to equal the logged-in user\nSET my_user_var = (SELECT  '\"' || CURRENT_USER() || '\"' );\n\n-- grant the logged in user the doc_ai_role\nGRANT ROLE tb_doc_ai TO USER identifier($my_user_var);",
   "execution_count": null,
   "outputs": []
  },
  {
   "cell_type": "markdown",
   "id": "79d710c1-9908-4b05-9376-73c2e1f686f9",
   "metadata": {
    "name": "cell6",
    "collapsed": false
   },
   "source": "For use in a future step, we will need to download 2 separate .zip files that contain a Train (5 PDFs) and Full (11 PDFs) set of Inspection Reports.\n\nPlease leverage the two buttons below to download these .zip files. Once downloaded please unzip the files into a location that can easily be accessed in our next steps.\n\nTraining Set [ZIP](https://github.com/Snowflake-Labs/sfquickstarts/blob/master/site/sfguides/src/tasty_bytes_extracting_insights_with_docai/assets/inspection_reports_train.zip?_fsi=kVaBWUHz&_fsi=kVaBWUHz&_fsi=kVaBWUHz)\n\nFull Set [ZIP](https://github.com/Snowflake-Labs/sfquickstarts/blob/master/site/sfguides/src/tasty_bytes_extracting_insights_with_docai/assets/inspection_reports_full.zip?_fsi=kVaBWUHz&_fsi=kVaBWUHz&_fsi=kVaBWUHz)"
  },
  {
   "cell_type": "markdown",
   "id": "a697ac9f-afdd-4f62-a40f-f696a2ed43d4",
   "metadata": {
    "name": "cell7",
    "collapsed": false
   },
   "source": "### Uploading our Inspection Reports to our Stage\n\n**Navigating to our Stage**\n\nWithin the Snowsight interface, navigate to Data -> Databases and then search for DOCAI. From there navigate to the RAW_DOC schema and the INSPECTION_REPORTS stage.\n\n"
  },
  {
   "cell_type": "markdown",
   "id": "15349689-070a-432d-b804-70b9e83bdc2a",
   "metadata": {
    "name": "cell8",
    "collapsed": false
   },
   "source": "In the top-right corner, click the +Files button and either drop or browse to the unzipped Inspection Reports Full from Step 1. From there click Upload.\n\nThis will kick off our file upload and you will soon see our Inspection Report PDF's within the Stage."
  },
  {
   "cell_type": "markdown",
   "id": "84acaa4f-4668-4e49-a507-dab3f879aecc",
   "metadata": {
    "name": "cell9",
    "collapsed": false
   },
   "source": "### Creating our Document AI Build\nWithin the Snowsight interface please switch your role to TB_DOC_AI and, navigate to AI & ML -> Document AI. From there click the + Build button.\n\nWithin the New Build screen, enter the following:\n\n* Build Name: INSPECTION_REPORT_EXTRACTION\n* Choose Database: DOCAI\n* Choose Schema: RAW_DOC\n"
  },
  {
   "cell_type": "markdown",
   "id": "7bf4c45d-8eef-44d0-b8f9-54456019af42",
   "metadata": {
    "name": "cell10",
    "collapsed": false
   },
   "source": "### Uploading our Training Documents\nAfter the build creation is successful, we will land in our Document AI Build Details window, where we can begin our document upload by clicking the Upload documents button.\n\nWithin the Upload documents screen drop or browse to the unzipped Training Inspection Reports from Step 1. From there click Upload."
  },
  {
   "cell_type": "markdown",
   "id": "535dfc66-0c34-4f6f-8899-7439f603b2f1",
   "metadata": {
    "name": "cell11",
    "collapsed": false
   },
   "source": "### Specifying our Values and Questions\n\nOnce the upload process is complete, please click Define value so we can begin to specify value names and questions we want to ask the model.\n\nTo begin defining our values to extract from our documents, click the Add value button in the right-hand window.\n\nFrom here please enter the following set of Values and Questions one by one that are documented below. For each pair, please complete the following before clicking Add value to enter the next pair:\n\n**Did the Model extract the Value correctly?**\n\n* If Yes - Click the check-box to indicate this value was extracted correctly.\n* If No - Delete the provided value and enter the correct value.\n\n**Value | Question**\n\n* TRUCK_ID: What is the Truck Identifier?\n* DATE: What is the Date?\n* PIC_PRESENT: Was the Person in charge present (Y or N)?\n* FOOD_PROPER_TEMP: Was the Food received at the proper temperature (Y or N)?\n* VEHICLE_RUNS_WELL: Did the Vehicle run and was it in well maintained condition?"
  },
  {
   "cell_type": "markdown",
   "id": "9306249e-dee0-4480-a9ed-8e947c53a2e8",
   "metadata": {
    "name": "cell12",
    "collapsed": false
   },
   "source": "For demonstration purposes, we are only extracting 5 values however please feel free to add more.\n\nPlease see [Question optimization for extracting information with Document AI](https://docs.snowflake.com/en/user-guide/snowflake-cortex/document-ai/optimizing-questions?_fsi=kVaBWUHz&_fsi=kVaBWUHz&_fsi=kVaBWUHz) for best practices.\n\n"
  },
  {
   "cell_type": "markdown",
   "id": "35046dcb-9318-4cc4-9812-598965bd845c",
   "metadata": {
    "name": "cell13",
    "collapsed": false
   },
   "source": "### Reviewing our Test Documents\nAfter completing our initial document review in the previous step, we will now review the models' initial extraction results for our remaining test documents.\n\nTo begin, please move on to the second document by clicking the arrow at the bottom of the screen.\n\n\nOnce the next document appears, please again conduct the following steps for each Value and Question pair.\n\n**Did the Model extract the Value correctly?**\n\n* If Yes - Click the check-box to indicate this value was extracted correctly.\n* If No - Delete the provided value and enter the correct value.\n\nAfter completing review of all documents, please navigate back to the Document AI UI by click the arrow next to Documents review\n\nNext navigate to the Build Details tab."
  },
  {
   "cell_type": "markdown",
   "id": "5ce69f04-3df8-4d91-b176-88ab423a4b80",
   "metadata": {
    "name": "cell14",
    "collapsed": false
   },
   "source": "### Training our Model\nUsing the Model accuracy tile, we will now train our model by clicking the Train model button. Within the Start training pop-up click Start Training which will take around 20 minutes.\n\nFor more on Document AI training time estimation please visit our [Document AI documentation](https://docs.snowflake.com/en/user-guide/snowflake-cortex/document-ai/prepare-model-build?_fsi=kVaBWUHz&_fsi=kVaBWUHz&_fsi=kVaBWUHz#training-time-estimation).\n\nIn our case, it may take 10 minutes for training to complete. I've already done the training, so you can follow along with me until your training in completed.\n\nWhen training is complete, you will see \"Trained\" next to the model name indicating it is ready to be leveraged.\n"
  },
  {
   "cell_type": "markdown",
   "id": "d9459e73-5438-4629-bff1-ae08bf0e4c13",
   "metadata": {
    "name": "cell15",
    "collapsed": false
   },
   "source": "### Using our Document AI Model against our Inspection Reports\n\nIn the last section, we walked through training our Inspection Report Extraction model in Snowflake. We will now use that model to extract our values from the full set of documents we uploaded to our stage earlier.\n\n"
  },
  {
   "cell_type": "code",
   "id": "949ba302-07e1-4020-a4d2-49022918631a",
   "metadata": {
    "language": "sql",
    "name": "cell16"
   },
   "outputs": [],
   "source": "USE ROLE tb_doc_ai;\nUSE WAREHOUSE DOCAI_WH;\nUSE DATABASE DOCAI;\nUSE SCHEMA RAW_DOC;",
   "execution_count": null
  },
  {
   "cell_type": "code",
   "id": "6f75332f-e2a3-430d-b340-c5ed040c9165",
   "metadata": {
    "language": "sql",
    "name": "cell17"
   },
   "outputs": [],
   "source": "-- Using a LIST command, let's first take a look at the files that we staged earlier and want to use our extraction model against.\n\nLIST @inspection_reports;",
   "execution_count": null
  },
  {
   "cell_type": "markdown",
   "id": "e299c786-4ece-4d51-b218-6836ccd2c702",
   "metadata": {
    "name": "cell18",
    "collapsed": false
   },
   "source": "To begin our extraction, let's use our model and the [PREDICT](https://docs.snowflake.com/en/sql-reference/classes/classification/methods/predict?_fsi=kVaBWUHz&_fsi=kVaBWUHz&_fsi=kVaBWUHz_) method against one of those staged files by executing the next query.\n\n"
  },
  {
   "cell_type": "code",
   "id": "c695373e-ac74-4b62-a1f1-08206cbd5c81",
   "metadata": {
    "language": "sql",
    "name": "cell3"
   },
   "source": "SELECT DOCAI.RAW_DOC.INSPECTION_REPORT_EXTRACTION_V2!PREDICT(GET_PRESIGNED_URL(@DOCAI.RAW_DOC.inspection_reports, '02.13.2022.5.pdf'));",
   "execution_count": null,
   "outputs": []
  },
  {
   "cell_type": "markdown",
   "id": "c3f39661-0cbd-438b-b902-2ebaa33d20b4",
   "metadata": {
    "name": "cell19",
    "collapsed": false
   },
   "source": "### Extraction for all Documents\n\nOur extracted object looks great, but before we begin to flatten this out let's create a raw table based on extraction from all our staged documents. Please execute the next query which may take around 2 minutes and result in a Table IR_RAW successfully created. message."
  },
  {
   "cell_type": "code",
   "id": "91e9a18d-0339-4f60-8ba7-837c09d88d9d",
   "metadata": {
    "language": "sql",
    "name": "cell20"
   },
   "outputs": [],
   "source": "CREATE TABLE IF NOT EXISTS ir_raw\nCOMMENT = '{\"origin\":\"sf_sit-is\", \"name\":\"voc\", \"version\":{\"major\":1, \"minor\":0}, \"attributes\":{\"is_quickstart\":1, \"source\":\"sql\", \"vignette\":\"docai\"}}'\nAS\nSELECT INSPECTION_REPORT_EXTRACTION_V2!PREDICT(GET_PRESIGNED_URL(@inspection_reports, RELATIVE_PATH)) AS ir_object\nFROM DIRECTORY(@inspection_reports);\n",
   "execution_count": null
  },
  {
   "cell_type": "code",
   "id": "5b0e2028-d4a5-420d-9aa5-7f5d45c4ed65",
   "metadata": {
    "language": "sql",
    "name": "cell22"
   },
   "outputs": [],
   "source": "-- Before moving on let's take a look at our raw, extracted results.\n\nSELECT * FROM ir_raw;",
   "execution_count": null
  },
  {
   "cell_type": "markdown",
   "id": "8197ec35-ef07-445a-ba8e-f9c4e9765377",
   "metadata": {
    "name": "cell23",
    "collapsed": false
   },
   "source": "### Flattening our Extracted Object\n\nEverything that was extracted for each document is present in the ir_object column. To make analysis easier, let's complete the Quickstart by using Snowflake's Semi-Structured Data Support to show how we can extract columns from our object.\n\nIn production, a Data Engineer would typically flatten and promote this data downstream through our Medallion Architecture using objects like Dynamic Tables or Views.\n\nPlease execute the next query in which we will use [Dot Notation](https://docs.snowflake.com/en/user-guide/querying-semistructured?_fsi=kVaBWUHz&_fsi=kVaBWUHz&_fsi=kVaBWUHz#dot-notation) to: - Extract and normalize Date to a consistent format \n* Extract TRUCK_ID \n* Extract PIC_PRESENT and FOOD_PROPER_TEMP \n* Convert Y to Pass, N to Fail and X to Not Observed"
  },
  {
   "cell_type": "code",
   "id": "f52a82ef-e9e8-4f09-8192-c9c1d20cb070",
   "metadata": {
    "language": "sql",
    "name": "cell24"
   },
   "outputs": [],
   "source": "SELECT\n    TO_DATE(REPLACE(ir_object:\"DATE\"[0].value::varchar,'-','/')) AS date,\n    ir_object:\"TRUCK_ID\"[0].value::varchar AS truck_id, \n    CASE\n        WHEN ir_object:\"PIC_PRESENT\"[0].value::varchar = 'Y' THEN 'Pass' -- convert Y to Pass\n        WHEN ir_object:\"PIC_PRESENT\"[0].value::varchar = 'N' THEN 'Fail' -- convert N to Fail\n        WHEN ir_object:\"PIC_PRESENT\"[0].value::varchar = 'X' THEN 'Not Observed' -- convert X to Not Observed\n        ELSE 'Not Observed'\n    END AS person_in_charge_present,\n    CASE\n        WHEN ir_object:\"FOOD_PROPER_TEMP\"[0].value::varchar = 'Y' THEN 'Pass' -- convert Y to Pass\n        WHEN ir_object:\"FOOD_PROPER_TEMP\"[0].value::varchar = 'N' THEN 'Fail' -- convert N to Fail\n        WHEN ir_object:\"FOOD_PROPER_TEMP\"[0].value::varchar = 'X' THEN 'Not Observed' -- convert X to Not Observed\n        ELSE 'Not Observed'\n    END AS food_proper_temp\nFROM ir_raw\nORDER BY truck_id;",
   "execution_count": null
  },
  {
   "cell_type": "markdown",
   "id": "4426da2f-0dc2-4e2a-9747-0082ec70428f",
   "metadata": {
    "name": "cell21",
    "collapsed": false
   },
   "source": "### We're done!\n\nWe have moved from Unstructured PDF to easy to digest tabular results in the matter of minutes all within the Snowflake AI Data Cloud."
  }
 ]
}