{
 "cells": [
  {
   "cell_type": "markdown",
   "id": "3775908f-ca36-4846-8f38-5adca39217f2",
   "metadata": {
    "collapsed": false,
    "name": "cell1"
   },
   "source": [
    "### DocumentAI\n",
    "\n",
    "Please note that much of the work for this session will not be done in this notebook, it will be done via Snowsight\n",
    "\n",
    "You may want to create a new window to do your work and keep this window open for instructions."
   ]
  },
  {
   "cell_type": "markdown",
   "id": "2391f5d8-d567-45fa-b559-061c06855f27",
   "metadata": {
    "collapsed": false,
    "name": "cell4"
   },
   "source": [
    "We will walk through how to train and leverage a Document Extraction Model using Document AI. We will use this model to convert unstructured Inspection Reports into structured, easy-to-analyze rows and columns all within the Snowflake AI Data Cloud.\n",
    "\n",
    "* Document AI Documentation\n",
    "* Snowflake's Artic-TILT LLM for Document AI Documentation"
   ]
  },
  {
   "cell_type": "markdown",
   "id": "acbd426c-8a16-4c1f-9184-2ff8efe8443b",
   "metadata": {
    "collapsed": false,
    "name": "cell5"
   },
   "source": [
    "First, we'll do a little additional setup."
   ]
  },
  {
   "cell_type": "code",
   "execution_count": null,
   "id": "8d50cbf4-0c8d-4950-86cb-114990437ac9",
   "metadata": {
    "language": "sql",
    "name": "cell2"
   },
   "outputs": [],
   "source": [
    "-- assume the accountadmin role\n",
    "USE ROLE accountadmin;\n",
    "USE DATABASE DOCAI;\n",
    "\n",
    "-- create the raw_doc schema\n",
    "CREATE OR REPLACE SCHEMA RAW_DOC;\n",
    "\n",
    "-- create the doc_ai stage\n",
    "CREATE OR REPLACE STAGE RAW_DOC.DOC_AI\n",
    "    DIRECTORY = (ENABLE = TRUE)\n",
    "    ENCRYPTION =  (TYPE = 'SNOWFLAKE_SSE');\n",
    "\n",
    "-- create the inspection_reports stage\n",
    "CREATE OR REPLACE STAGE RAW_DOC.INSPECTION_REPORTS\n",
    "    DIRECTORY = (ENABLE = TRUE)\n",
    "    ENCRYPTION =  (TYPE = 'SNOWFLAKE_SSE');\n",
    "\n",
    "\n",
    "-- create the tb_doc_ai role\n",
    "CREATE OR REPLACE ROLE tb_doc_ai;\n",
    "\n",
    "-- grant document ai privileges\n",
    "GRANT DATABASE ROLE SNOWFLAKE.DOCUMENT_INTELLIGENCE_CREATOR TO ROLE tb_doc_ai;\n",
    "\n",
    "-- grant doc_ai warehouse privileges\n",
    "GRANT USAGE, OPERATE ON WAREHOUSE DOCAI_WH TO ROLE tb_doc_ai;\n",
    "\n",
    "-- grant tb_doc_ai database privileges\n",
    "GRANT ALL ON DATABASE DOCAI TO ROLE tb_doc_ai;\n",
    "GRANT ALL ON SCHEMA DOCAI.RAW_DOC TO ROLE tb_doc_ai;\n",
    "GRANT CREATE STAGE ON SCHEMA DOCAI.RAW_DOC TO ROLE tb_doc_ai;\n",
    "GRANT CREATE SNOWFLAKE.ML.DOCUMENT_INTELLIGENCE ON SCHEMA DOCAI.RAW_DOC TO ROLE tb_doc_ai;\n",
    "GRANT ALL ON ALL STAGES IN SCHEMA DOCAI.RAW_DOC TO ROLE tb_doc_ai;\n",
    "\n",
    "-- set my_user_var variable to equal the logged-in user\n",
    "SET my_user_var = (SELECT  '\"' || CURRENT_USER() || '\"' );\n",
    "\n",
    "-- grant the logged in user the doc_ai_role\n",
    "GRANT ROLE tb_doc_ai TO USER identifier($my_user_var);"
   ]
  },
  {
   "cell_type": "markdown",
   "id": "79d710c1-9908-4b05-9376-73c2e1f686f9",
   "metadata": {
    "collapsed": false,
    "name": "cell6"
   },
   "source": [
    "For use in a future step, we will need to download 2 separate .zip files that contain a Train (5 PDFs) and Full (11 PDFs) set of Inspection Reports.\n",
    "\n",
    "Please leverage the two buttons below to download these .zip files. Once downloaded please unzip the files into a location that can easily be accessed in our next steps.\n",
    "\n",
    "Training Set [ZIP](https://github.com/Snowflake-Labs/sfquickstarts/blob/master/site/sfguides/src/tasty_bytes_extracting_insights_with_docai/assets/inspection_reports_train.zip?_fsi=kVaBWUHz&_fsi=kVaBWUHz&_fsi=kVaBWUHz)\n",
    "\n",
    "Full Set [ZIP](https://github.com/Snowflake-Labs/sfquickstarts/blob/master/site/sfguides/src/tasty_bytes_extracting_insights_with_docai/assets/inspection_reports_full.zip?_fsi=kVaBWUHz&_fsi=kVaBWUHz&_fsi=kVaBWUHz)"
   ]
  },
  {
   "cell_type": "markdown",
   "id": "a697ac9f-afdd-4f62-a40f-f696a2ed43d4",
   "metadata": {
    "collapsed": false,
    "name": "cell7"
   },
   "source": [
    "### Uploading our Inspection Reports to our Stage\n",
    "\n",
    "**Navigating to our Stage**\n",
    "\n",
    "Within the Snowsight interface, navigate to Data -> Databases and then search for DOCAI. From there navigate to the RAW_DOC schema and the INSPECTION_REPORTS stage.\n",
    "\n"
   ]
  },
  {
   "cell_type": "markdown",
   "id": "15349689-070a-432d-b804-70b9e83bdc2a",
   "metadata": {
    "collapsed": false,
    "name": "cell8"
   },
   "source": [
    "In the top-right corner, click the +Files button and either drop or browse to the unzipped Inspection Reports Full from Step 1. From there click Upload.\n",
    "\n",
    "This will kick off our file upload and you will soon see our Inspection Report PDF's within the Stage."
   ]
  },
  {
   "cell_type": "markdown",
   "id": "84acaa4f-4668-4e49-a507-dab3f879aecc",
   "metadata": {
    "collapsed": false,
    "name": "cell9"
   },
   "source": [
    "### Creating our Document AI Build\n",
    "Within the Snowsight interface please switch your role to TB_DOC_AI and, navigate to AI & ML -> Document AI. From there click the + Build button.\n",
    "\n",
    "Within the New Build screen, enter the following:\n",
    "\n",
    "* Build Name: INSPECTION_REPORT_EXTRACTION\n",
    "* Choose Database: DOCAI\n",
    "* Choose Schema: RAW_DOC\n"
   ]
  },
  {
   "cell_type": "markdown",
   "id": "7bf4c45d-8eef-44d0-b8f9-54456019af42",
   "metadata": {
    "collapsed": false,
    "name": "cell10"
   },
   "source": [
    "### Uploading our Training Documents\n",
    "After the build creation is successful, we will land in our Document AI Build Details window, where we can begin our document upload by clicking the Upload documents button.\n",
    "\n",
    "Within the Upload documents screen drop or browse to the unzipped Training Inspection Reports from Step 1. From there click Upload."
   ]
  },
  {
   "cell_type": "markdown",
   "id": "535dfc66-0c34-4f6f-8899-7439f603b2f1",
   "metadata": {
    "collapsed": false,
    "name": "cell11"
   },
   "source": [
    "### Specifying our Values and Questions\n",
    "\n",
    "Once the upload process is complete, please click Define value so we can begin to specify value names and questions we want to ask the model.\n",
    "\n",
    "To begin defining our values to extract from our documents, click the Add value button in the right-hand window.\n",
    "\n",
    "From here please enter the following set of Values and Questions one by one that are documented below. For each pair, please complete the following before clicking Add value to enter the next pair:\n",
    "\n",
    "**Did the Model extract the Value correctly?**\n",
    "\n",
    "* If Yes - Click the check-box to indicate this value was extracted correctly.\n",
    "* If No - Delete the provided value and enter the correct value.\n",
    "\n",
    "**Value | Question**\n",
    "\n",
    "* TRUCK_ID: What is the Truck Identifier?\n",
    "* DATE: What is the Date?\n",
    "* PIC_PRESENT: Was the Person in charge present (Y or N)?\n",
    "* FOOD_PROPER_TEMP: Was the Food received at the proper temperature (Y or N)?\n",
    "* VEHICLE_RUNS_WELL: Did the Vehicle run and was it in well maintained condition?"
   ]
  },
  {
   "cell_type": "markdown",
   "id": "9306249e-dee0-4480-a9ed-8e947c53a2e8",
   "metadata": {
    "collapsed": false,
    "name": "cell12"
   },
   "source": [
    "For demonstration purposes, we are only extracting 5 values however please feel free to add more.\n",
    "\n",
    "Please see [Question optimization for extracting information with Document AI](https://docs.snowflake.com/en/user-guide/snowflake-cortex/document-ai/optimizing-questions?_fsi=kVaBWUHz&_fsi=kVaBWUHz&_fsi=kVaBWUHz) for best practices.\n",
    "\n"
   ]
  },
  {
   "cell_type": "markdown",
   "id": "35046dcb-9318-4cc4-9812-598965bd845c",
   "metadata": {
    "collapsed": false,
    "name": "cell13"
   },
   "source": [
    "### Reviewing our Test Documents\n",
    "After completing our initial document review in the previous step, we will now review the models' initial extraction results for our remaining test documents.\n",
    "\n",
    "To begin, please move on to the second document by clicking the arrow at the bottom of the screen.\n",
    "\n",
    "\n",
    "Once the next document appears, please again conduct the following steps for each Value and Question pair.\n",
    "\n",
    "**Did the Model extract the Value correctly?**\n",
    "\n",
    "* If Yes - Click the check-box to indicate this value was extracted correctly.\n",
    "* If No - Delete the provided value and enter the correct value.\n",
    "\n",
    "After completing review of all documents, please navigate back to the Document AI UI by click the arrow next to Documents review\n",
    "\n",
    "Next navigate to the Build Details tab."
   ]
  },
  {
   "cell_type": "markdown",
   "id": "5ce69f04-3df8-4d91-b176-88ab423a4b80",
   "metadata": {
    "collapsed": false,
    "name": "cell14"
   },
   "source": [
    "### Training our Model\n",
    "Using the Model accuracy tile, we will now train our model by clicking the Train model button. Within the Start training pop-up click Start Training which will take around 20 minutes.\n",
    "\n",
    "For more on Document AI training time estimation please visit our [Document AI documentation](https://docs.snowflake.com/en/user-guide/snowflake-cortex/document-ai/prepare-model-build?_fsi=kVaBWUHz&_fsi=kVaBWUHz&_fsi=kVaBWUHz#training-time-estimation).\n",
    "\n",
    "In our case, it may take 10 minutes for training to complete. I've already done the training, so you can follow along with me until your training in completed.\n",
    "\n",
    "When training is complete, you will see \"Trained\" next to the model name indicating it is ready to be leveraged.\n"
   ]
  },
  {
   "cell_type": "markdown",
   "id": "d9459e73-5438-4629-bff1-ae08bf0e4c13",
   "metadata": {
    "collapsed": false,
    "name": "cell15"
   },
   "source": [
    "### Using our Document AI Model against our Inspection Reports\n",
    "\n",
    "In the last section, we walked through training our Inspection Report Extraction model in Snowflake. We will now use that model to extract our values from the full set of documents we uploaded to our stage earlier.\n",
    "\n"
   ]
  },
  {
   "cell_type": "code",
   "execution_count": null,
   "id": "949ba302-07e1-4020-a4d2-49022918631a",
   "metadata": {
    "language": "sql",
    "name": "cell16"
   },
   "outputs": [],
   "source": [
    "USE ROLE tb_doc_ai;\n",
    "USE WAREHOUSE DOCAI_WH;\n",
    "USE DATABASE DOCAI;\n",
    "USE SCHEMA RAW_DOC;"
   ]
  },
  {
   "cell_type": "code",
   "execution_count": null,
   "id": "6f75332f-e2a3-430d-b340-c5ed040c9165",
   "metadata": {
    "language": "sql",
    "name": "cell17"
   },
   "outputs": [],
   "source": [
    "-- Using a LIST command, let's first take a look at the files that we staged earlier and want to use our extraction model against.\n",
    "\n",
    "LIST @inspection_reports;"
   ]
  },
  {
   "cell_type": "markdown",
   "id": "e299c786-4ece-4d51-b218-6836ccd2c702",
   "metadata": {
    "collapsed": false,
    "name": "cell18"
   },
   "source": [
    "To begin our extraction, let's use our model and the [PREDICT](https://docs.snowflake.com/en/sql-reference/classes/classification/methods/predict?_fsi=kVaBWUHz&_fsi=kVaBWUHz&_fsi=kVaBWUHz_) method against one of those staged files by executing the next query.\n",
    "\n"
   ]
  },
  {
   "cell_type": "code",
   "execution_count": null,
   "id": "c695373e-ac74-4b62-a1f1-08206cbd5c81",
   "metadata": {
    "language": "sql",
    "name": "cell3"
   },
   "outputs": [],
   "source": [
    "SELECT inspection_report_extraction!PREDICT(GET_PRESIGNED_URL(@inspection_reports, '02.13.2022.5.pdf'));\n"
   ]
  },
  {
   "cell_type": "markdown",
   "id": "c3f39661-0cbd-438b-b902-2ebaa33d20b4",
   "metadata": {
    "collapsed": false,
    "name": "cell19"
   },
   "source": [
    "### Extraction for all Documents\n",
    "\n",
    "Our extracted object looks great, but before we begin to flatten this out let's create a raw table based on extraction from all our staged documents. Please execute the next query which may take around 2 minutes and result in a Table IR_RAW successfully created. message."
   ]
  },
  {
   "cell_type": "code",
   "execution_count": null,
   "id": "91e9a18d-0339-4f60-8ba7-837c09d88d9d",
   "metadata": {
    "language": "sql",
    "name": "cell20"
   },
   "outputs": [],
   "source": [
    "CREATE TABLE IF NOT EXISTS ir_raw\n",
    "COMMENT = '{\"origin\":\"sf_sit-is\", \"name\":\"voc\", \"version\":{\"major\":1, \"minor\":0}, \"attributes\":{\"is_quickstart\":1, \"source\":\"sql\", \"vignette\":\"docai\"}}'\n",
    "AS\n",
    "SELECT inspection_report_extraction!PREDICT(GET_PRESIGNED_URL(@inspection_reports, RELATIVE_PATH)) AS ir_object\n",
    "FROM DIRECTORY(@inspection_reports);\n"
   ]
  },
  {
   "cell_type": "code",
   "execution_count": null,
   "id": "5b0e2028-d4a5-420d-9aa5-7f5d45c4ed65",
   "metadata": {
    "language": "sql",
    "name": "cell22"
   },
   "outputs": [],
   "source": [
    "-- Before moving on let's take a look at our raw, extracted results.\n",
    "\n",
    "SELECT * FROM ir_raw;"
   ]
  },
  {
   "cell_type": "markdown",
   "id": "8197ec35-ef07-445a-ba8e-f9c4e9765377",
   "metadata": {
    "collapsed": false,
    "name": "cell23"
   },
   "source": [
    "### Flattening our Extracted Object\n",
    "\n",
    "Everything that was extracted for each document is present in the ir_object column. To make analysis easier, let's complete the Quickstart by using Snowflake's Semi-Structured Data Support to show how we can extract columns from our object.\n",
    "\n",
    "In production, a Data Engineer would typically flatten and promote this data downstream through our Medallion Architecture using objects like Dynamic Tables or Views.\n",
    "\n",
    "Please execute the next query in which we will use [Dot Notation](https://docs.snowflake.com/en/user-guide/querying-semistructured?_fsi=kVaBWUHz&_fsi=kVaBWUHz&_fsi=kVaBWUHz#dot-notation) to: - Extract and normalize Date to a consistent format \n",
    "* Extract TRUCK_ID \n",
    "* Extract PIC_PRESENT and FOOD_PROPER_TEMP \n",
    "* Convert Y to Pass, N to Fail and X to Not Observed"
   ]
  },
  {
   "cell_type": "markdown",
   "id": "4426da2f-0dc2-4e2a-9747-0082ec70428f",
   "metadata": {
    "collapsed": false,
    "name": "cell21"
   },
   "source": [
    "### We're done!\n",
    "\n",
    "We have moved from Unstructured PDF to easy to digest tabular results in the matter of minutes all within the Snowflake AI Data Cloud."
   ]
  }
 ],
 "metadata": {
  "kernelspec": {
   "display_name": "Streamlit Notebook",
   "name": "streamlit"
  },
  "lastEditStatus": {
   "authorEmail": "bradley.harris@snowflake.com",
   "authorId": "1011012698186",
   "authorName": "BHARRIS",
   "lastEditTime": 1738853970705,
   "notebookId": "gtyty5kv5wcj73mrlnyj",
   "sessionId": "249fd7f1-2596-45f6-9b04-2630da5971aa"
  }
 },
 "nbformat": 4,
 "nbformat_minor": 5
}
