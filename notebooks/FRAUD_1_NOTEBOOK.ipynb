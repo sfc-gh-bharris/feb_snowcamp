{
 "metadata": {
  "kernelspec": {
   "display_name": "Streamlit Notebook",
   "name": "streamlit"
  },
  "lastEditStatus": {
   "notebookId": "6nk6zpgdiry46jqf52he",
   "authorId": "1011012698186",
   "authorName": "BHARRIS",
   "authorEmail": "bradley.harris@snowflake.com",
   "sessionId": "e053926f-0746-42e9-b669-77b25af5d329",
   "lastEditTime": 1738705699726
  }
 },
 "nbformat_minor": 5,
 "nbformat": 4,
 "cells": [
  {
   "cell_type": "markdown",
   "id": "3775908f-ca36-4846-8f38-5adca39217f2",
   "metadata": {
    "name": "cell1",
    "collapsed": false
   },
   "source": "### Credit Card Fraud Detection: Harnessing the Power of Machine Learning in Snowflake ML\n\nCredit card fraud is a significant concern in the digital age, where billions of transactions occur daily across the globe. Detecting fraudulent activities quickly and accurately is paramount to safeguarding both consumers and financial institutions. Machine learning (ML) has emerged as a powerful tool in the fight against credit card fraud, offering sophisticated methods to identify suspicious activities in real-time.\n\nThe Challenge of Fraud Detection\nCredit card fraud can take various forms, including unauthorized transactions, account takeovers, and synthetic identity fraud. Traditional rule-based systems, which rely on predefined patterns and thresholds, often fall short in detecting new and evolving fraud schemes. These systems can also generate a high number of false positives, leading to unnecessary transaction declines and customer dissatisfaction.\n\nIn this demo we will be walking through a use case where the ML Capabilities of the Snowflake Data Cloud will be leveraged for investigating the past transactions.\nSnowflake ML Classification function offers automated predictions and data insights using machine learning. All you need to provide is your data and it doesn't require time series as well. The Machine learning model enables users to sort data into different classes using patterns detected within the training data.\n\n***This is a very simplified set of data, but it will hopefully show you how the core functionality works within Snowflake.***"
  },
  {
   "cell_type": "markdown",
   "id": "7e7f00e8-ae96-444e-aa4c-db35448e5cc2",
   "metadata": {
    "name": "cell4",
    "collapsed": false
   },
   "source": "The following cell performs a couple of actions: \n\nCreate a file format named CSVFORMAT.Create a stage named CREDITCARD_TRANSACTIONSThe stage points to the external storage where the credit card transactions dataset is stored.Lists the contents of the CREDITCARD_TRANSACTIONS stage."
  },
  {
   "cell_type": "code",
   "id": "5d34b1c1-cc72-44bf-a977-049c18d3c4ba",
   "metadata": {
    "language": "python",
    "name": "cell6"
   },
   "outputs": [],
   "source": "# make sure that you add the following packages\n# snowflake-ml-python\n\nimport streamlit as st\nimport pandas as pd\nfrom snowflake.snowpark import Window\nfrom snowflake.snowpark.functions import *\n\nfrom snowflake.snowpark.context import get_active_session\nsession = get_active_session()\nsession.query_tag = {\"origin\":\"sf_sit-is\", \n                     \"name\":\"credit_card_fraud\", \n                     \"version\":{\"major\":1, \"minor\":0},\n                     \"attributes\":{\"is_tutorial\":0, \"source\":\"notebook\"}}\n\n\nfrom snowflake.snowpark import functions as F\nfrom snowflake.ml.feature_store import (\nFeatureStore,\nFeatureView,\nEntity,\nCreationMode\n)\nfrom snowflake.ml.utils.connection_params import SnowflakeLoginOptions",
   "execution_count": null
  },
  {
   "cell_type": "code",
   "id": "8d50cbf4-0c8d-4950-86cb-114990437ac9",
   "metadata": {
    "language": "sql",
    "name": "cell2"
   },
   "source": "USE DATABASE CC_FINS_DB;\nUSE SCHEMA ANALYTICS;\n\nCREATE FILE FORMAT IF NOT EXISTS CSVFORMAT \n    SKIP_HEADER = 1\n    TYPE = 'CSV';\n\n-- Create a stage with the csv format to stage the credit card transactions\n-- Note that we're trying to keep it pretty simple in this example. Because of that, all fraud takes place in one location. If you would like a more realistic dataset, you will need to modify this .csv file and load it to another stage and read that file instead.\n\nCREATE STAGE IF NOT EXISTS CREDITCARD_TRANSACTIONS\n    FILE_FORMAT =  CSVFORMAT \n    URL = 's3://sfquickstarts/sfguide_credit_card_fraud_detection_using_snowflakeml/fraud_detection_dataset.csv';\n    \n    \n--Upload the file manually in case of internal stage or in case of external stage point to file storage\n-- Inspect the content of stage\nLS @CREDITCARD_TRANSACTIONS;",
   "execution_count": null,
   "outputs": []
  },
  {
   "cell_type": "code",
   "id": "42c687b6-09c9-4a8c-beb1-b633b6543bfd",
   "metadata": {
    "language": "python",
    "name": "cell5"
   },
   "outputs": [],
   "source": "# Create a Snowpark DataFrame that is configured to load data from the CSV file and write it to a table\n# We can now infer schema from CSV files.\ntransactions_df = session.read.options({\"field_delimiter\": \",\",\n                                    \"field_optionally_enclosed_by\": '\"',\n                                    \"infer_schema\": True,\n                                    \"parse_header\": True}).csv(\"@CREDITCARD_TRANSACTIONS\")\n\ntransactions_df.write.mode('overwrite').save_as_table('CREDITCARD_TRANSACTIONS')\n\ntransactions_df.show()",
   "execution_count": null
  },
  {
   "cell_type": "markdown",
   "id": "87dd9173-557e-47c5-9152-317e08e40eff",
   "metadata": {
    "name": "cell7",
    "collapsed": false
   },
   "source": " Generate various features related to user spending patterns. These features include weekly, monthly, and yearly spending, as well as transactional statistics that can be used for further analysis or machine learning tasks such as fraud detection."
  },
  {
   "cell_type": "code",
   "id": "c695373e-ac74-4b62-a1f1-08206cbd5c81",
   "metadata": {
    "language": "sql",
    "name": "Generate_Customer_Features"
   },
   "source": "WITH \nweekly_spending AS (\n    SELECT\n        USER_ID,\n        DATE_TRUNC('week',TO_TIMESTAMP(TRANSACTION_DATE,'MM/DD/YY HH24:MI')) AS week,\n        SUM(TRANSACTION_AMOUNT) AS total_spent_wk\n    FROM\n        CREDITCARD_TRANSACTIONS\n    GROUP BY\n        USER_ID,\n        DATE_TRUNC('week',TO_TIMESTAMP(TRANSACTION_DATE,'MM/DD/YY HH24:MI'))\n),\nmean_weekly_spending AS (\n    SELECT\n        USER_ID,\n        AVG(total_spent_wk) AS mean_weekly_spent\n    FROM\n        weekly_spending\n    GROUP BY\n        USER_ID\n),\nmonthly_spending AS (\n    SELECT\n        USER_ID,\n        DATE_TRUNC('month',TO_TIMESTAMP(TRANSACTION_DATE,'MM/DD/YY HH24:MI')) AS month,\n        SUM(TRANSACTION_AMOUNT) AS total_spent\n    FROM\n        CREDITCARD_TRANSACTIONS\n    GROUP BY\n        USER_ID,\n        DATE_TRUNC('month',TO_TIMESTAMP(TRANSACTION_DATE,'MM/DD/YY HH24:MI'))\n),\nmean_monthly_spending AS (\n    SELECT\n        USER_ID,\n        AVG(total_spent) AS mean_monthly_spent\n    FROM\n        monthly_spending\n    GROUP BY\n        USER_ID\n),\nyearly_spending AS (\n    SELECT\n        USER_ID,\n        DATE_TRUNC('year',TO_TIMESTAMP(TRANSACTION_DATE,'MM/DD/YY HH24:MI')) AS month,\n        SUM(TRANSACTION_AMOUNT) AS total_spent_yr\n    FROM\n        CREDITCARD_TRANSACTIONS\n    GROUP BY\n        USER_ID,\n        DATE_TRUNC('year',TO_TIMESTAMP(TRANSACTION_DATE,'MM/DD/YY HH24:MI'))\n),\nmean_yearly_spending AS (\n    SELECT\n        USER_ID,\n        AVG(total_spent_yr) AS mean_yearly_spent\n    FROM\n        yearly_spending\n    GROUP BY\n        USER_ID\n),\nfeatures AS (\n    SELECT\n        USER_ID,\n        COUNT(TRANSACTION_ID) AS total_transactions,\n        AVG(TRANSACTION_AMOUNT) AS avg_per_transaction_amount,\n        STDDEV(TRANSACTION_AMOUNT) AS stddev_transaction_amount,\n        COUNT(DISTINCT MERCHANT) AS num_unique_merchants,\n        round(COUNT(TRANSACTION_ID) / COUNT(DISTINCT DATE_TRUNC('month',TO_TIMESTAMP(TRANSACTION_DATE,'MM/DD/YY HH24:MI')),0)) AS transactions_per_month,\n        COUNT(CASE WHEN IS_FRAUD = 1 THEN 1 END) * 1.0 / COUNT(TRANSACTION_ID) AS fraud_rate\n    FROM\n        CREDITCARD_TRANSACTIONS\n    GROUP BY\n        USER_ID\n)\nSELECT\n    DISTINCT cc.USER_ID,total_transactions,avg_per_transaction_amount,stddev_transaction_amount,num_unique_merchants,\n    ROUND(mws.mean_weekly_spent,2) as mean_weekly_spent,\n    ROUND(mms.mean_monthly_spent,2) as mean_monthly_spent,\n    ROUND(mys.mean_yearly_spent,2) as mean_yearly_spent\nFROM\n    CREDITCARD_TRANSACTIONS cc\n    JOIN features fs ON cc.USER_ID = fs.User_ID\n    JOIN mean_monthly_spending mms ON cc.USER_ID = mms.User_ID\n    JOIN mean_yearly_spending mys ON cc.USER_ID = mys.User_ID\n    JOIN mean_weekly_spending mws ON cc.USER_ID = mws.User_ID;",
   "execution_count": null,
   "outputs": []
  },
  {
   "cell_type": "code",
   "id": "c0bd59d8-8e05-44d2-a9b1-aaca3d378fc4",
   "metadata": {
    "language": "python",
    "name": "cell8"
   },
   "outputs": [],
   "source": "cust_spdf= Generate_Customer_Features.to_df()\n\ncust_spdf.write.mode('overwrite').save_as_table('customer_features')\ncust_sdf=session.sql(\"select * from customer_features\")\n\ncust_sdf.show()",
   "execution_count": null
  },
  {
   "cell_type": "markdown",
   "id": "4369600e-cdce-4f7d-904c-cbdf53219fac",
   "metadata": {
    "name": "cell3",
    "collapsed": false
   },
   "source": "Generate cumulative behavioral metrics for users based on their transaction data, such as cumulative clicks and cumulative logins per hour. It involves the use of window functions and joins to combine and transform data from the CREDITCARD_TRANSACTIONS table."
  },
  {
   "cell_type": "code",
   "id": "b5ba888e-c0c4-4759-b1d0-7ac1cb4b78fc",
   "metadata": {
    "language": "sql",
    "name": "Generate_Transaction_Features"
   },
   "outputs": [],
   "source": "WITH cumulative_behavior AS (\n    SELECT\n        USER_ID,\n        SESSION_ID,\n        TRANSACTION_DATE,\n        SUM(CLICKS) OVER (PARTITION BY USER_ID ORDER BY TRANSACTION_DATE RANGE BETWEEN UNBOUNDED PRECEDING AND CURRENT ROW) AS cumulative_clicks,\n        SUM(LOGIN_PER_HOUR) OVER (PARTITION BY USER_ID ORDER BY TRANSACTION_DATE RANGE BETWEEN UNBOUNDED PRECEDING AND CURRENT ROW) AS cumulative_logins_per_hour\n    FROM CREDITCARD_TRANSACTIONS\n),\nunique_transactions AS (\n    SELECT DISTINCT\n        USER_ID,\n        SESSION_ID,\n        TRANSACTION_DATE,\n        TRANSACTION_ID,\n        TIME_ELAPSED,\n        CLICKS,\n        LOCATION,\n        LATITUDE,\n        LONGITUDE\n    FROM CREDITCARD_TRANSACTIONS\n)\nSELECT\n    ut.SESSION_ID,\n    ut.TRANSACTION_DATE,\n    ut.TIME_ELAPSED,\n    ut.CLICKS,\n    ut.TRANSACTION_ID,\n    ut.LOCATION,\n    ut.LATITUDE,\n    ut.LONGITUDE,\n    cb.cumulative_clicks,\n    cb.cumulative_logins_per_hour\nFROM\n    unique_transactions ut\n    JOIN cumulative_behavior cb ON ut.USER_ID = cb.USER_ID \n    AND ut.SESSION_ID = cb.SESSION_ID\n    AND ut.TRANSACTION_DATE = cb.TRANSACTION_DATE\nORDER BY\n    ut.TRANSACTION_ID;",
   "execution_count": null
  },
  {
   "cell_type": "code",
   "id": "73ab30ff-ad51-4290-8b07-de37dedaf617",
   "metadata": {
    "language": "python",
    "name": "cell9"
   },
   "outputs": [],
   "source": "# Generating a DataFrame of transaction features, saving it as a table in Snowflake\n\ntrans_df=Generate_Transaction_Features.to_df()\n\ntrans_df.write.mode('overwrite').save_as_table('transaction_features')\ntrans_sdf=session.sql(\"select * from transaction_features\")\n\ntrans_df.show()",
   "execution_count": null
  },
  {
   "cell_type": "markdown",
   "id": "e36a72e7-2c51-4282-8401-3314658f2c59",
   "metadata": {
    "name": "cell10",
    "collapsed": false
   },
   "source": "An entity is an abstraction over a set of primary keys used for looking up feature data. An Entity represents a real-world \"thing\" that has data associated with it. Below cell registers an entity for Customer and Transaction in Feature Store"
  },
  {
   "cell_type": "code",
   "id": "79833bee-84be-49a8-8d04-1f1e81bd7dad",
   "metadata": {
    "language": "python",
    "name": "cell11"
   },
   "outputs": [],
   "source": "FS1=FeatureStore(\nsession=session,\ndatabase=\"CC_FINS_DB\",\n    name=\"ANALYTICS\",\n    default_warehouse=\"CC_FINS_WH\",\n    creation_mode=CreationMode.CREATE_IF_NOT_EXIST)\n\ncustomer_entity = Entity(name=\"UserId\", join_keys=[\"USER_ID\"])\nFS1.register_entity(customer_entity)\n\ntransaction_entity = Entity(name=\"transId\", join_keys=[\"TRANSACTION_ID\"])\nFS1.register_entity(transaction_entity)",
   "execution_count": null
  },
  {
   "cell_type": "markdown",
   "id": "adf00645-07cc-4c73-8b7f-973977960b80",
   "metadata": {
    "name": "cell12",
    "collapsed": false
   },
   "source": "A feature view is a group of logically-related features that are refreshed on the same schedule. The FeatureView constructor accepts a Snowpark DataFrame that contains the feature generation logic. The provided DataFrame must contain the join_keys columns specified in the entities associated with the feature view. In this example we are using time-series data, so we will also specify the timestamp column name.\n\nBelow cell creates a feature view for the customer features"
  },
  {
   "cell_type": "code",
   "id": "77136d8a-0054-475f-8774-9825ae4e28b6",
   "metadata": {
    "language": "python",
    "name": "cell13"
   },
   "outputs": [],
   "source": "managed_fv = FeatureView(\n    name=\"Customer_Features\",\n    entities = [customer_entity],\n    feature_df=cust_sdf,\n    overwrite=True\n)\n\nregistered_fv = FS1.register_feature_view(\n    feature_view=managed_fv,\n    version=\"V1\"   \n)  \n\nmanaged_fv = FeatureView(\n    name=\"Trans_Features\",\n    entities = [transaction_entity],\n    feature_df=trans_sdf,\n    overwrite=True\n    \n)\n\nregistered_fv = FS1.register_feature_view(\n    feature_view=managed_fv,\n    version=\"V1\"\n)",
   "execution_count": null
  },
  {
   "cell_type": "markdown",
   "id": "7d429216-0b54-474d-8d1c-201fc5436323",
   "metadata": {
    "name": "cell15",
    "collapsed": false
   },
   "source": " This completes the setup for the Database objects and Feature Store Producer workflow. The data and the features which have been generated is available for the consumer with appropritate privileges. Time to head on to the next notebook!"
  }
 ]
}