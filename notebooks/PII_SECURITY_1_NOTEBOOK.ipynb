{
 "metadata": {
  "kernelspec": {
   "display_name": "Streamlit Notebook",
   "name": "streamlit"
  },
  "lastEditStatus": {
   "notebookId": "rskuqgp2h2qz7uyxe7oe",
   "authorId": "1011012698186",
   "authorName": "BHARRIS",
   "authorEmail": "bradley.harris@snowflake.com",
   "sessionId": "cfa930a6-c59e-4ea6-9ca4-2340f3f465a3",
   "lastEditTime": 1738616113552
  }
 },
 "nbformat_minor": 5,
 "nbformat": 4,
 "cells": [
  {
   "cell_type": "markdown",
   "id": "3775908f-ca36-4846-8f38-5adca39217f2",
   "metadata": {
    "name": "cell1",
    "collapsed": false
   },
   "source": "### What You'll Build\n\n* A table derived from sample data containing fake (but realistic) PII\n* RBAC protections for that table\n* Dynamic Data Masking policies to protect the PII table\n* Row Access Policies to protect the PII table"
  },
  {
   "cell_type": "markdown",
   "id": "6e3f2520-ffa6-47a5-8aea-82b0ac9336ca",
   "metadata": {
    "name": "cell4",
    "collapsed": false
   },
   "source": "Normally, we would create multiple users, each assigned to a different role. \n\nTo keep things simple and to avoid having a lot of users and passwords exposed in this tutorial, we're just going to create the roles and assign them all to our user.\n\nThis way, we can switch between roles and see how they work without logging out and logging back in."
  },
  {
   "cell_type": "code",
   "id": "732f7050-dc8a-4763-b7ce-1bc27f2d27fa",
   "metadata": {
    "language": "sql",
    "name": "cell14"
   },
   "outputs": [],
   "source": "use warehouse PII_WH;\nuse database PII_EXAMPLE;\nuse schema DATA;",
   "execution_count": null
  },
  {
   "cell_type": "code",
   "id": "9d0bb8d0-14ec-4f38-b541-91f9c4a699e0",
   "metadata": {
    "language": "sql",
    "name": "cell5"
   },
   "outputs": [],
   "source": "-- create users are roles for the demo\nuse role accountadmin;\n\ncreate or replace role admin;\ncreate or replace  role marketing;\ncreate or replace  role infosec;\ncreate or replace  role executive;\n\n\nREVOKE ROLE admin FROM USER bharris;",
   "execution_count": null
  },
  {
   "cell_type": "code",
   "id": "4976b806-32ae-41ff-b9cb-6b3dac4d5c2c",
   "metadata": {
    "language": "python",
    "name": "cell7"
   },
   "outputs": [],
   "source": "from snowflake.snowpark.context import get_active_session\nsession = get_active_session()\n\nuser_name = session.sql(\"SELECT current_user()\").collect()[0][0]",
   "execution_count": null
  },
  {
   "cell_type": "code",
   "id": "5e79db6e-cc70-4f82-9cfd-6d3ff95831ed",
   "metadata": {
    "language": "sql",
    "name": "cell6"
   },
   "outputs": [],
   "source": "grant role admin to user {{user_name}};\ngrant role marketing to user {{user_name}};\ngrant role infosec to user {{user_name}};\ngrant role executive to user {{user_name}};",
   "execution_count": null
  },
  {
   "cell_type": "markdown",
   "id": "d5770139-0783-4477-bb2d-8659fe70d6ee",
   "metadata": {
    "name": "cell16",
    "collapsed": false
   },
   "source": "And we can see what our user has assigned to them."
  },
  {
   "cell_type": "code",
   "id": "2ae9f076-ebb4-4ef2-bbed-1b5892664974",
   "metadata": {
    "language": "sql",
    "name": "cell15"
   },
   "outputs": [],
   "source": "show grants to user {{user_name}};",
   "execution_count": null
  },
  {
   "cell_type": "markdown",
   "id": "7d42da81-d537-42d7-b16e-d6540f2d57d8",
   "metadata": {
    "name": "cell8",
    "collapsed": false
   },
   "source": "At this point, we have access to all the roles, but they're not really doing much.\n\nLets create some fake data so we can start to work with roles."
  },
  {
   "cell_type": "code",
   "id": "8d50cbf4-0c8d-4950-86cb-114990437ac9",
   "metadata": {
    "language": "sql",
    "name": "cell2",
    "collapsed": false
   },
   "source": "-- Here we grab 200 rows of fake but realistic PII from the sample data in the TPCDS testing set to use for our walkthrough. \n-- Also note that the C_BIRTH_COUNTRY and OPTIN columns will be populated at random with one of three values.\nuse schema PII_EXAMPLE.DATA;\n\ncreate or replace table CUSTOMERS as (\n    SELECT \n        a.C_SALUTATION,\n        a.C_FIRST_NAME,\n        a.C_LAST_NAME,\n        CASE UNIFORM(1,3,RANDOM()) WHEN 1 THEN 'UK' WHEN 2 THEN 'US' ELSE 'FRANCE' END AS C_BIRTH_COUNTRY,\n        a.C_EMAIL_ADDRESS,\n        b.CD_GENDER,\n        b.CD_CREDIT_RATING,\n        CASE UNIFORM(1,3,RANDOM()) WHEN 1 THEN 'YES' WHEN 2 THEN 'NO' ELSE NULL END AS OPTIN\n    FROM \n        SNOWFLAKE_SAMPLE_DATA.TPCDS_SF100TCL.CUSTOMER a,\n        SNOWFLAKE_SAMPLE_DATA.TPCDS_SF100TCL.CUSTOMER_DEMOGRAPHICS b\n    WHERE\n        a.C_CUSTOMER_SK = b.CD_DEMO_SK and \n        a.C_SALUTATION is not null and\n        a.C_FIRST_NAME is not null and\n        a.C_LAST_NAME is not null and\n        a.C_BIRTH_COUNTRY is not null and\n        a.C_EMAIL_ADDRESS is not null and \n        b.CD_GENDER is not null and\n        b.CD_CREDIT_RATING is not null\n    LIMIT 200 )\n;\n\ngrant ownership on table PII_EXAMPLE.DATA.CUSTOMERS to role admin;",
   "execution_count": null,
   "outputs": []
  },
  {
   "cell_type": "markdown",
   "id": "3ae4272b-1634-4486-b9d6-2abd3f7b6ad2",
   "metadata": {
    "name": "cell10",
    "collapsed": false
   },
   "source": "Now we're going to grant rights to roles for our table above."
  },
  {
   "cell_type": "code",
   "id": "e1d4b809-c96e-4594-acae-6ca7643b50e6",
   "metadata": {
    "language": "sql",
    "name": "cell9",
    "collapsed": false
   },
   "outputs": [],
   "source": "use role accountadmin;\n\n-- grant rights to roles for the demo objects\ngrant usage on database PII_EXAMPLE to role marketing;\ngrant usage on database PII_EXAMPLE to role executive;\ngrant usage on database PII_EXAMPLE to role infosec;\ngrant usage on database PII_EXAMPLE to role admin;\n\ngrant usage on schema PII_EXAMPLE.DATA to role admin;\ngrant usage on schema PII_EXAMPLE.DATA to role marketing;\ngrant usage on schema PII_EXAMPLE.DATA to role executive;\ngrant usage on schema PII_EXAMPLE.DATA to role infosec;\n\ngrant select on table PII_EXAMPLE.DATA.CUSTOMERS to role marketing;\ngrant select on table PII_EXAMPLE.DATA.CUSTOMERS to role executive;\n\n\n-- We also have to give permissions to our warehouse to these roles\n\ngrant usage on warehouse PII_WH to role admin;\ngrant usage on warehouse PII_WH to role marketing;\ngrant usage on warehouse PII_WH to role infosec;\ngrant usage on warehouse PII_WH to role executive;",
   "execution_count": null
  },
  {
   "cell_type": "code",
   "id": "607c0ef5-9bf2-4a0b-9054-b28a782633ea",
   "metadata": {
    "language": "sql",
    "name": "cell11"
   },
   "outputs": [],
   "source": "-- show that the current role (accountadmin) cannot currently see the data\nuse role accountadmin;\nselect * from PII_EXAMPLE.DATA.CUSTOMERS limit 50;",
   "execution_count": null
  },
  {
   "cell_type": "code",
   "id": "f60296a9-726d-4b80-96a2-8acccc756782",
   "metadata": {
    "language": "sql",
    "name": "cell12",
    "collapsed": false
   },
   "outputs": [],
   "source": "-- But our marketing role can see it \nuse role marketing;\n\nuse warehouse PII_WH;\nselect * from PII_EXAMPLE.DATA.CUSTOMERS limit 50;",
   "execution_count": null
  },
  {
   "cell_type": "code",
   "id": "7ab74fbb-18f1-41de-81ae-6c84b0fe8648",
   "metadata": {
    "language": "sql",
    "name": "cell13"
   },
   "outputs": [],
   "source": "-- And our infosec role can't see it.\nuse role infosec;\n\nuse warehouse PII_WH;\nselect * from PII_EXAMPLE.DATA.CUSTOMERS limit 50;",
   "execution_count": null
  },
  {
   "cell_type": "markdown",
   "id": "c104c7ac-3f48-44d7-8759-a59e0211cad1",
   "metadata": {
    "name": "cell17",
    "collapsed": false
   },
   "source": "Now we start putting controls in place on the data itself. To do this, we need to give the rights to create and apply policies. Since these rights can be granted on their own to encourage separation of duties, we will have the admin who owns the data objects grant policy control to the fictional infosec group."
  },
  {
   "cell_type": "code",
   "id": "c695373e-ac74-4b62-a1f1-08206cbd5c81",
   "metadata": {
    "language": "sql",
    "name": "cell3"
   },
   "source": "use role accountadmin;\n\ngrant CREATE ROW ACCESS POLICY on schema PII_EXAMPLE.DATA to role infosec;\ncreate or replace table PII_EXAMPLE.DATA.ROW_ACCESS_MAPPING (\n  role_name varchar,\n  national_letter varchar,\n  allowed varchar\n);\ngrant ownership on table PII_EXAMPLE.DATA.ROW_ACCESS_MAPPING to role infosec;\ngrant create masking policy on schema PII_EXAMPLE.DATA to role infosec;",
   "execution_count": null,
   "outputs": []
  },
  {
   "cell_type": "markdown",
   "id": "13557838-193c-4433-a879-a41fee3c6c4a",
   "metadata": {
    "name": "cell18",
    "collapsed": false
   },
   "source": "The first control will apply is a row access policy to ensure only authorized people get any information at all. The most common form this policy takes is a policy that reads from a table where the rules are maintained - a mapping table."
  },
  {
   "cell_type": "code",
   "id": "6e8289a7-f357-476d-b64d-d3fca9e20e24",
   "metadata": {
    "language": "sql",
    "name": "cell19"
   },
   "outputs": [],
   "source": "use role infosec;\n\ninsert into PII_EXAMPLE.DATA.ROW_ACCESS_MAPPING\n  values\n  ('ACCOUTADMIN','','FALSE'),\n  ('ADMIN','','FALSE'),\n  ('MARKETING','UK','TRUE'),\n  ('INFOSEC','','FALSE'),\n  ('EXECUTIVE','FRANCE','TRUE');",
   "execution_count": null
  },
  {
   "cell_type": "markdown",
   "id": "bf13c2d6-26ac-4843-9656-eae68a2547d7",
   "metadata": {
    "name": "cell20",
    "collapsed": false
   },
   "source": "While we do have the outline of our mapping policy, it isn't being applied. to do that, we're going to actually create the policy.\n"
  },
  {
   "cell_type": "code",
   "id": "a7e6d300-4d25-42ba-845f-36026547a684",
   "metadata": {
    "language": "sql",
    "name": "cell21"
   },
   "outputs": [],
   "source": "use role infosec;\n\ncreate or replace row access policy PII_EXAMPLE.DATA.CONTROL_BY_COUNTRY as (C_BIRTH_COUNTRY varchar) returns boolean ->\n  case\n      -- check for full read access\n      when exists ( \n            select 1 from PII_EXAMPLE.DATA.ROW_ACCESS_MAPPING\n              where role_name = current_role()\n                and C_BIRTH_COUNTRY like national_letter\n                and allowed = 'TRUE'\n          ) then true\n      -- always default deny\n      else false\n  end\n;",
   "execution_count": null
  },
  {
   "cell_type": "markdown",
   "id": "537442f8-4068-4cb2-ac41-257aaf799d49",
   "metadata": {
    "name": "cell23",
    "collapsed": false
   },
   "source": "Now we grant the rights to apply this policy to the admin for the data set. It's normal for the security and governance folks to maintain the policy logic, while the people closer to the data apply the policies since they are aware of in which tables the data which needs protecting lives. Of course, this is even better when automated through governance and security solutions that takes the human element out entirely."
  },
  {
   "cell_type": "code",
   "id": "1a86b2e8-eb18-49d2-a004-68a027dc018f",
   "metadata": {
    "language": "sql",
    "name": "cell22"
   },
   "outputs": [],
   "source": "use role accountadmin;\nuse warehouse PII_WH;\n\ngrant apply on row access policy PII_EXAMPLE.DATA.CONTROL_BY_COUNTRY to role admin;\n\n-- start doing this as the admin role\nuse role admin;\nalter table PII_EXAMPLE.DATA.CUSTOMERS add row access policy PII_EXAMPLE.DATA.CONTROL_BY_COUNTRY on (C_BIRTH_COUNTRY);",
   "execution_count": null
  },
  {
   "cell_type": "code",
   "id": "308361c9-53ac-4bc4-8436-34b0bc2d1866",
   "metadata": {
    "language": "sql",
    "name": "cell24"
   },
   "outputs": [],
   "source": "-- Now lets see who can see this data\n\n-- insert into PII_EXAMPLE.DATA.ROW_ACCESS_MAPPING\n--   values\n--   ('ACCOUTADMIN','','FALSE'),\n--   ('ADMIN','','FALSE'),\n--   ('MARKETING','UK','TRUE'),\n--   ('INFOSEC','','FALSE'),\n--   ('EXECUTIVE','FRANCE','TRUE');\n\nuse role marketing;\nselect * from  PII_EXAMPLE.DATA.CUSTOMERS limit 50;",
   "execution_count": null
  },
  {
   "cell_type": "code",
   "id": "d75ec514-e7e2-47d3-bd7d-31448c447b74",
   "metadata": {
    "language": "sql",
    "name": "cell25"
   },
   "outputs": [],
   "source": "-- Now lets see who can see this data\n\n-- insert into PII_EXAMPLE.DATA.ROW_ACCESS_MAPPING\n--   values\n--   ('ACCOUTADMIN','','FALSE'),\n--   ('ADMIN','','FALSE'),\n--   ('MARKETING','UK','TRUE'),\n--   ('INFOSEC','','FALSE'),\n--   ('EXECUTIVE','FRANCE','TRUE');\n\nuse role admin;\nselect * from  PII_EXAMPLE.DATA.CUSTOMERS limit 50;",
   "execution_count": null
  },
  {
   "cell_type": "code",
   "id": "20732afa-2ae1-4473-933d-57f007842795",
   "metadata": {
    "language": "sql",
    "name": "cell26"
   },
   "outputs": [],
   "source": "-- Now lets see who can see this data\n\n-- insert into PII_EXAMPLE.DATA.ROW_ACCESS_MAPPING\n--   values\n--   ('ACCOUTADMIN','','FALSE'),\n--   ('ADMIN','','FALSE'),\n--   ('MARKETING','UK','TRUE'),\n--   ('INFOSEC','','FALSE'),\n--   ('EXECUTIVE','FRANCE','TRUE');\n\nuse role executive;\nselect * from  PII_EXAMPLE.DATA.CUSTOMERS limit 50;",
   "execution_count": null
  },
  {
   "cell_type": "code",
   "id": "58a81aa6-77d4-460f-b101-a79ae1e220b5",
   "metadata": {
    "language": "sql",
    "name": "cell27"
   },
   "outputs": [],
   "source": "-- Now lets see who can see this data\n\n-- insert into PII_EXAMPLE.DATA.ROW_ACCESS_MAPPING\n--   values\n--   ('ACCOUTADMIN','','FALSE'),\n--   ('ADMIN','','FALSE'),\n--   ('MARKETING','UK','TRUE'),\n--   ('INFOSEC','','FALSE'),\n--   ('EXECUTIVE','FRANCE','TRUE');\n\nuse role marketing;\nselect * from  PII_EXAMPLE.DATA.CUSTOMERS where C_BIRTH_COUNTRY = 'FRANCE' limit 50;",
   "execution_count": null
  },
  {
   "cell_type": "markdown",
   "id": "ccc4243a-1898-4db8-b086-adfabb8677a8",
   "metadata": {
    "name": "cell28",
    "collapsed": false
   },
   "source": "Now we will lock down things at the column level. In this step, we will use conditional masking"
  },
  {
   "cell_type": "code",
   "id": "d2ae38b5-16de-4931-9c09-7edfff88798a",
   "metadata": {
    "language": "sql",
    "name": "cell29"
   },
   "outputs": [],
   "source": "use role infosec;\n\n-- conditional masking version\ncreate masking policy PII_EXAMPLE.DATA.HIDE_OPTOUTS as\n(col_value varchar, optin string) returns varchar ->\n  case\n    when optin = 'YES' then col_value\n    else '***MASKED***'\n  end;",
   "execution_count": null
  },
  {
   "cell_type": "code",
   "id": "af941ef6-9225-4be3-bad7-337a83f7d115",
   "metadata": {
    "language": "sql",
    "name": "cell30"
   },
   "outputs": [],
   "source": "-- Grant the rights to apply the policy (replace this with the alternate policy if that's what you've used).\n\nuse role accountadmin;\n\ngrant apply on masking policy PII_EXAMPLE.DATA.HIDE_OPTOUTS to role admin;",
   "execution_count": null
  },
  {
   "cell_type": "code",
   "id": "34f33de0-f21f-43a7-9838-2f873d7e64ec",
   "metadata": {
    "language": "sql",
    "name": "cell31"
   },
   "outputs": [],
   "source": "-- Apply the policy to the table.\n\nuse role admin;\nalter table PII_EXAMPLE.DATA.CUSTOMERS modify column C_EMAIL_ADDRESS\n    set masking policy PII_EXAMPLE.DATA.HIDE_OPTOUTS using (C_EMAIL_ADDRESS, OPTIN);",
   "execution_count": null
  },
  {
   "cell_type": "code",
   "id": "ea39da42-cbf4-4b3c-8963-5e237407343e",
   "metadata": {
    "language": "sql",
    "name": "cell32"
   },
   "outputs": [],
   "source": "use role marketing;\nselect * from PII_EXAMPLE.DATA.CUSTOMERS limit 50;",
   "execution_count": null
  },
  {
   "cell_type": "markdown",
   "id": "fd05c695-8867-4c3d-83bc-0b08160ae806",
   "metadata": {
    "name": "cell33",
    "collapsed": false
   },
   "source": "Now we will use another feature, Object Tagging. This allows you to apply important metadata right at the level where the information is stored. \n\nFirst we need to grant the rights to use the tagging feature to our users' roles."
  },
  {
   "cell_type": "code",
   "id": "625a84c9-c86b-4b51-acd9-00a1c62bc515",
   "metadata": {
    "language": "sql",
    "name": "cell34"
   },
   "outputs": [],
   "source": "use role accountadmin;\n\ngrant create tag on schema PII_EXAMPLE.DATA to role infosec;\ngrant apply tag on account to role admin;",
   "execution_count": null
  },
  {
   "cell_type": "code",
   "id": "f5764a9b-9ccf-4879-8ceb-7aee1a2ed207",
   "metadata": {
    "language": "sql",
    "name": "cell35"
   },
   "outputs": [],
   "source": "-- The infosec role will create the tags which can be applied. Tags themselves are best managed centrally to avoid namespace explosion.\nuse role infosec;\n\ncreate tag PII_EXAMPLE.DATA.GDPR;\ncreate tag PII_EXAMPLE.DATA.FROM_SOURCE;",
   "execution_count": null
  },
  {
   "cell_type": "markdown",
   "id": "25e3bba1-6d2f-4bfb-8b01-88b46f901491",
   "metadata": {
    "name": "cell37",
    "collapsed": false
   },
   "source": "Like the policies, the tag values will be applied to specific information by the admins who are closer to the actual data. Here we apply the tags and set their values for these objects."
  },
  {
   "cell_type": "code",
   "id": "13007046-b825-49fc-b584-0dfb707a3bf9",
   "metadata": {
    "language": "sql",
    "name": "cell36"
   },
   "outputs": [],
   "source": "use role admin;\n\nalter table PII_EXAMPLE.DATA.CUSTOMERS set tag \n    PII_EXAMPLE.DATA.GDPR = 'TRUE', \n    PII_EXAMPLE.DATA.FROM_SOURCE = 'HARRIS';\n\nselect system$get_tag('PII_EXAMPLE.DATA.FROM_SOURCE', 'PII_EXAMPLE.DATA.CUSTOMERS', 'table') as TAGGING;",
   "execution_count": null
  },
  {
   "cell_type": "markdown",
   "id": "b53561f2-e79d-4923-ac50-6b21c702889d",
   "metadata": {
    "name": "cell41",
    "collapsed": false
   },
   "source": "Here, we can also take a look at this information via Snowsight."
  },
  {
   "cell_type": "markdown",
   "id": "f4ac5d79-d3eb-43af-911a-ffe623c37ace",
   "metadata": {
    "name": "cell45",
    "collapsed": false
   },
   "source": "### What is Data Classification?\nData classification, also called entity recognition or PII detection, is the process of labeling data with its semantic type after inferring the meaning of the data. For example, you may have a table named customers with a field named email: after data classification, that field could be labeled with a semantic category (email address) or a privacy category (direct identifier).\n\nData Classification is implemented through a single new function, EXTRACT_SEMANTIC_CATEGORIES, and a new stored procedure, ASSOCIATE_SEMANTIC_CATEGORY_TAGS. The function takes an object (a table, view, etc.) and analyzes up to 10,000 cells in each field before returning a single JSON object with the classification results and additional result metadata. The stored procedure parses the JSON object returned by the function and creates a tag with the semantic and privacy category on the column in the original object.\n\n### EXTRACT_SEMANTIC_CATEGORIES\nReturns a set of categories (semantic and privacy) for each supported column in the specified table or view. To return the categories for a column, the column must use a data type that supports classification and does not contain all NULL values.\n\nThe categories are derived from the metadata and data contained in the columns, as well as the metadata about the columns and data. The privacy categories rely on the generated semantic categories, if any."
  },
  {
   "cell_type": "code",
   "id": "4c743522-9f0e-43f3-a48b-f6681a91e552",
   "metadata": {
    "language": "sql",
    "name": "cell38"
   },
   "outputs": [],
   "source": "-- Now we will use another feature, Classification. \n-- This will examine the information's contents and attempt to use out of the box intelligence to classify the information into categories.\n\n-- Run the classification function on the table we've been using.\nuse role admin;\nselect * from PII_EXAMPLE.DATA.CUSTOMERS;",
   "execution_count": null
  },
  {
   "cell_type": "markdown",
   "id": "6bec72fc-4834-475a-9ea6-2a18b0a38332",
   "metadata": {
    "name": "cell42",
    "collapsed": false
   },
   "source": "So, small problem here, our admin role can't actually see the data because of the row level security that we applied earlier.\n\nI'm going to go ahead and remove our row level security for now."
  },
  {
   "cell_type": "code",
   "id": "f0870ad7-88d4-414e-a6d4-241efc7c4b20",
   "metadata": {
    "language": "sql",
    "name": "cell43"
   },
   "outputs": [],
   "source": "use role admin;\n\nalter table PII_EXAMPLE.DATA.CUSTOMERS drop row access policy PII_EXAMPLE.DATA.CONTROL_BY_COUNTRY;",
   "execution_count": null
  },
  {
   "cell_type": "code",
   "id": "a4738f68-dc57-480f-890c-b2ece5e98394",
   "metadata": {
    "language": "sql",
    "name": "cell44"
   },
   "outputs": [],
   "source": "-- Now we can try again\n-- Now we will use another feature, Classification. \n-- This will examine the information's contents and attempt to use out of the box intelligence to classify the information into categories.\n\n-- Run the classification function on the table we've been using.\nuse role admin;\nselect extract_semantic_categories('PII_EXAMPLE.DATA.CUSTOMERS');\n",
   "execution_count": null
  },
  {
   "cell_type": "code",
   "id": "563d49a8-06fa-4dfb-9635-53a7d9c6f2f7",
   "metadata": {
    "language": "sql",
    "name": "cell39"
   },
   "outputs": [],
   "source": "select\n    t.key::varchar as column_name,\n    t.value as val,\n    t.value:\"recommendation\":\"privacy_category\"::varchar as privacy_category,\n    t.value:\"recommendation\":\"semantic_category\"::varchar as semantic_category,\n    t.value:\"recommendation\":\"coverage\"::number(10,2) as probability,\n    t.value:\"alternates\"::variant as alternates\nfrom table(\n        flatten(\n            extract_semantic_categories(\n                'PII_EXAMPLE.DATA.CUSTOMERS'\n            )::variant\n        )\n    ) as t;",
   "execution_count": null
  },
  {
   "cell_type": "markdown",
   "id": "e45dfed7-b199-468d-bce5-4606e98efb3d",
   "metadata": {
    "name": "cell46",
    "collapsed": false
   },
   "source": "To assign the system tags automatically, call the ASSOCIATE_SEMANTIC_CATEGORY_TAGS stored procedure. Note:\n\nThe fully-qualified name of the table and the function from the first step are arguments for the stored procedure.\n\nThe stored procedure reruns the EXTRACT_SEMANTIC_CATEGORIES function. If you want to preserve the results from the first step or make changes, save the results to a table prior to calling the stored procedure."
  },
  {
   "cell_type": "code",
   "id": "a38513e4-04e0-4c01-89e4-20574c094d9e",
   "metadata": {
    "language": "sql",
    "name": "cell40"
   },
   "outputs": [],
   "source": "CALL ASSOCIATE_SEMANTIC_CATEGORY_TAGS(\n   'PII_EXAMPLE.DATA.CUSTOMERS',\n    EXTRACT_SEMANTIC_CATEGORIES('PII_EXAMPLE.DATA.CUSTOMERS')\n);",
   "execution_count": null
  },
  {
   "cell_type": "code",
   "id": "05f5c42b-dc98-4a17-882b-a3b2921624b0",
   "metadata": {
    "language": "sql",
    "name": "cell47"
   },
   "outputs": [],
   "source": "select *\n  from table(PII_EXAMPLE.information_schema.tag_references_all_columns('CUSTOMERS', 'table'));",
   "execution_count": null
  }
 ]
}